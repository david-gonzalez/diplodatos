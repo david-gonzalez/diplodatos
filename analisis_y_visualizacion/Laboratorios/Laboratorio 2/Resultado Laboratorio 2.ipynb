{
 "cells": [
  {
   "cell_type": "markdown",
   "metadata": {},
   "source": [
    "## Introdución\n",
    "\n",
    "En la descripción del dataset [\"We are from our childhood\"](https://www.kaggle.com/jkokatjuhha/we-are-from-our-childhood/data) de kaggle.com, se plantean posibles investigaciones que se pueden realizar sobre el dataset...\n",
    "Una de las investigaciones que nos llamó la atención es ***\"Detección de Valores anómalos\"*** (Outliers Detection), ya que el dataset, está basado en **una encuesta** que tuvieron que realizar los amigos de una clase de estadística. \n",
    "\n",
    "La encuesta es realmente grande, tiene 139 preguntas, en las que hay 5 posibles valores para responder y 11 preguntas más a responder categoricas como la edad, estudios, etc.\n",
    "\n",
    "Un pequeño(esperemos) número de personas tiene que haber respondido de forma aleatoria.\n",
    "\n",
    "Nuestra hipotesis se basa en que **Llenar esa encuesta tiene que haber sido una tarea realmente larga y tediosa.** por lo que es posible encontrar a esas personas, con ayuda de los algoritmos usados para detectar valores anómalos.\n",
    "\n",
    "\n"
   ]
  },
  {
   "cell_type": "markdown",
   "metadata": {},
   "source": [
    "### Outliers o valores atípicos\n",
    "\n",
    "Los outliers son valores que estan alejados de la mayoria de los otros datos.\n",
    "\n",
    "Son malos porque \"ensucian\" las muestras, desviando los valores y estadisticas deribadas de las muestras como medias por ejemplo dando lugar a resultados engañosos o de poca calidad, sobre todos cuando se tienen pocos datos.\n",
    "\n",
    "Causas: Hay varias causas para la aparición de valores anómalos\n",
    "Algunos son datos erróneos como, errores en la medición, errores en la transcripción \n",
    "Otros son datos verdaderos, que simplemente son desviaciones naturales en una población, o muestras que pertenecen a una población diferente. \n",
    "\n",
    "En este caso los outliers a identificar son aquellas personas que para completar la encuesta pusieron valores al azar con el afán de completarla más rápido."
   ]
  },
  {
   "cell_type": "markdown",
   "metadata": {},
   "source": [
    "### Outliers en una Dimension vs Outliers globales.\n",
    "\n",
    "Esto es la clave para nuestro análisis.\n",
    "Ya que un valor puede ser muy átipico para una dimensión, pero eso no quiere decir que sea una encuesta falsa.\n",
    "Nuestro objetivo es escontrar encuestas que se alejen en varias dimensiones. \n",
    "\n",
    "Por ejemplo una persona excepcionalmente alta, pero que en las demás dimensiones sigue a la media no es nuestro objetivo, esa persona es un outlier para esa sola dimension, pero no nos asegura que haya mentido al realizar la encuesta.\n",
    "\n",
    "Nuestro objetivo son aquellas personas que en varias variables se alejen de la muestra, aunque lo hagan en pequeñas proporciones.\n",
    "\n"
   ]
  },
  {
   "cell_type": "markdown",
   "metadata": {},
   "source": [
    "### Métodos de Detección de Outliers\n",
    "\n",
    "Hay varios metodos para la deteccion de outliers.\n",
    "Los aspectos más determinantes a la hora de elegir un metodo son la distribucion que los datos y la cantidad de dimensiones.\n",
    "\n",
    "En nuestro caso como tenemos 150 dimensiones y asumimos que siguen una distribucion normal. \n",
    "Tenemos que usar o el metodo de **Isolation Forest** o **Local Outlier Factor**"
   ]
  },
  {
   "cell_type": "markdown",
   "metadata": {},
   "source": [
    "\n"
   ]
  },
  {
   "cell_type": "code",
   "execution_count": null,
   "metadata": {},
   "outputs": [],
   "source": []
  }
 ],
 "metadata": {
  "kernelspec": {
   "display_name": "Python 3",
   "language": "python",
   "name": "python3"
  },
  "language_info": {
   "codemirror_mode": {
    "name": "ipython",
    "version": 3
   },
   "file_extension": ".py",
   "mimetype": "text/x-python",
   "name": "python",
   "nbconvert_exporter": "python",
   "pygments_lexer": "ipython3",
   "version": "3.6.4"
  }
 },
 "nbformat": 4,
 "nbformat_minor": 2
}
