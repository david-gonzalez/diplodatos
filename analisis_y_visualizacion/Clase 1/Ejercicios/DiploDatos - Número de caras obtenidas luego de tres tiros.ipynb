{
 "cells": [
  {
   "cell_type": "markdown",
   "metadata": {
    "collapsed": true
   },
   "source": [
    "\n",
    "# Número de caras obtenidas luego de los tres tiros\n",
    "### Se tira una moneda normal tres veces. Sea la v.a. X: “número de caras obtenidas”:"
   ]
  },
  {
   "cell_type": "markdown",
   "metadata": {},
   "source": [
    "#### Importamos las librerías necesarias:"
   ]
  },
  {
   "cell_type": "code",
   "execution_count": 1,
   "metadata": {
    "collapsed": true
   },
   "outputs": [],
   "source": [
    "import itertools\n",
    "import seaborn as sns\n",
    "import numpy as np                                                               \n",
    "import matplotlib.pyplot as plt"
   ]
  },
  {
   "cell_type": "markdown",
   "metadata": {},
   "source": [
    "#### Creamos el espacio muestral:"
   ]
  },
  {
   "cell_type": "code",
   "execution_count": 2,
   "metadata": {},
   "outputs": [
    {
     "data": {
      "text/plain": [
       "['c-c-c', 'c-c-s', 'c-s-c', 'c-s-s', 's-c-c', 's-c-s', 's-s-c', 's-s-s']"
      ]
     },
     "execution_count": 2,
     "metadata": {},
     "output_type": "execute_result"
    }
   ],
   "source": [
    "# Declaramos las variables\n",
    "C, S = 'c', 's'\n",
    "# Generamos el espacio muestral como el producto de todas las posibilidades\n",
    "SAMPLE_SPACE = ['-'.join(x) for x in itertools.product([C,S], repeat=3)]\n",
    "# Visualizamos el array con los valores generados\n",
    "SAMPLE_SPACE"
   ]
  },
  {
   "cell_type": "markdown",
   "metadata": {},
   "source": [
    "#### Generamos datos de prueba:"
   ]
  },
  {
   "cell_type": "code",
   "execution_count": 3,
   "metadata": {},
   "outputs": [
    {
     "data": {
      "text/plain": [
       "[(0, 0.13), (1, 0.375), (2, 0.37), (3, 0.125)]"
      ]
     },
     "execution_count": 3,
     "metadata": {},
     "output_type": "execute_result"
    }
   ],
   "source": [
    "# Generamos valores de prueba seleccionando 1000 veces valores del espacio muestral\n",
    "# obtenido de posiciones randómicas:\n",
    "sample_values = [ x.count(C) for x in np.random.choice(SAMPLE_SPACE, 1000)]\n",
    "\n",
    "# Computamos valores unicos: \n",
    "result = np.unique(sample_values, return_counts=True)\n",
    "\n",
    "# Preparamos visualización de resultados:\n",
    "[(label, count/1000.0) for label, count in zip(*result)]\n"
   ]
  },
  {
   "cell_type": "markdown",
   "metadata": {},
   "source": [
    "#### Visualizamos el resultado de forma mas clara:"
   ]
  },
  {
   "cell_type": "code",
   "execution_count": 4,
   "metadata": {},
   "outputs": [
    {
     "data": {
      "image/png": "[encoded data removed]",
      "text/plain": [
       "<matplotlib.figure.Figure at 0x7f9a53154cf8>"
      ]
     },
     "metadata": {},
     "output_type": "display_data"
    }
   ],
   "source": [
    "excecutions = [(label, count) for label, count in zip(*result)]\n",
    "\n",
    "labels, ys = zip(*excecutions)\n",
    "xs = np.arange(len(labels)) \n",
    "width = 0.8\n",
    "\n",
    "plt.rcdefaults()\n",
    "plt.bar(xs, ys, width, align='center', color=\"green\", alpha=0.5)\n",
    "plt.xticks(xs, labels) \n",
    "plt.yticks(ys)\n",
    "plt.title('Número de caras obtenidas')\n",
    "plt.xlabel('caras', fontsize=12)\n",
    "plt.ylabel('count', fontsize=12)\n",
    "plt.show()"
   ]
  },
  {
   "cell_type": "code",
   "execution_count": null,
   "metadata": {
    "collapsed": true
   },
   "outputs": [],
   "source": [
    "\n"
   ]
  }
 ],
 "metadata": {
  "kernelspec": {
   "display_name": "Python 3",
   "language": "python",
   "name": "python3"
  },
  "language_info": {
   "codemirror_mode": {
    "name": "ipython",
    "version": 3
   },
   "file_extension": ".py",
   "mimetype": "text/x-python",
   "name": "python",
   "nbconvert_exporter": "python",
   "pygments_lexer": "ipython3",
   "version": "3.6.3"
  }
 },
 "nbformat": 4,
 "nbformat_minor": 2
}
