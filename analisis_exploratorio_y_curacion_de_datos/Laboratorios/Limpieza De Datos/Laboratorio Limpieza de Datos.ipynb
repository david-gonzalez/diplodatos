{
 "cells": [
  {
   "cell_type": "markdown",
   "metadata": {},
   "source": [
    "#### Análisis Exploratorio y Curación de Datos:"
   ]
  },
  {
   "cell_type": "markdown",
   "metadata": {},
   "source": [
    "# Laboratorio: Limpiar un set de datos con pandas"
   ]
  },
  {
   "cell_type": "markdown",
   "metadata": {},
   "source": [
    "<p><em>Consigna:</em></p>\n",
    "<p>Limpiar un set de datos con pandas</p>\n",
    "<ul>\n",
    "<li>Un set de datos que tengan permisos para compartir con nosotros</li>\n",
    "<li>M&aacute;s de 100000 registros</li>\n",
    "<li>M&aacute;s de 20 columnas</li>\n",
    "<li>Con datos con cadenas, n&uacute;meros, fechas, y categor&iacute;as</li>\n",
    "</ul>\n",
    "<p>\n",
    "\n",
    "<ol>\n",
    "    <li>Importando los datos</li>\n",
    "        <ol>\n",
    "            <li> Verificar si no hay problemas en la importación Habilitar chequeos al importar </li>\n",
    "            <li> Asegurar de tener ids/claves únicas Chequear que no hay datos duplicados </li>\n",
    "            <li> Despersonalizar datos y guardarlos en un nuevo archivo</li>\n",
    "            <li> Nunca modificar los datos crudos u originales</li>\n",
    "        </ol>\n",
    "    <li>Pasos necesarios</li>\n",
    "        <ol>\n",
    "            <li>Etiquetas de variables/columnas: no usar caracteres especiales Verificar que no haya problemas de codificación/encoding </li>\n",
    "            <li> Tratar valores faltantes Quitar o imputar</li>\n",
    "            <li> Codificar variables: las variables categóricas deben ser etiquetadas como variables numéricas, no como cadenas</li>\n",
    "            <li> No cambiar los nombres de las variables de la fuente de origen</li>\n",
    "            <li> Verificar la consistencia de las variables\n",
    "Aplicar reglas de integridad</li>\n",
    "            <li> Identificar y documentar valores atípicos/outliers\n",
    "Calcular estadísticos</li>\n",
    "            <li> Evaluar cómo comprimir los datos para su almacenamiento más eficiente</li>\n",
    "            <li> Guardar el set de datos con un nombre informativo.</li>\n",
    "        </ol>\n",
    "    <li> Pasos deseables</li>\n",
    "    <ol>\n",
    "        <li> Ordenar variables/columnas si es posible – primero ID, luego en el mismo orden que la fuente</li>\n",
    "        <li> Quitar variables/columnas que no tienen información a analizar</li>\n",
    "        <li> Renombrar variables de grillas</li>\n",
    "        <li> Categorizar resultados en “Otros”\n",
    "Si tiene un campo de texto libre asociado, codificar en nuevos valores de la variable\n",
    "categórica asociada. Revisar fuzzyness.</li>\n",
    "        <li> Agregar metadata a los datos: cuando y como fueron obtenidos, limpieza realizada,\n",
    "asunciones, etc\n",
    "Vincular con etiquetas del código fuente y los datos. Al menos incluir un README.</li>\n",
    "    <ol>\n",
    "</ol>\n",
    "</p>"
   ]
  },
  {
   "cell_type": "markdown",
   "metadata": {},
   "source": [
    "---"
   ]
  },
  {
   "cell_type": "markdown",
   "metadata": {},
   "source": [
    "# Limpieza de Set de Datos Propio:"
   ]
  },
  {
   "cell_type": "code",
   "execution_count": 1,
   "metadata": {},
   "outputs": [],
   "source": [
    "# Inicialmente cargamos las librerías a utilizar:\n",
    "import os.path as path\n",
    "import zipfile\n",
    "import pandas as pd\n",
    "import numpy as np\n",
    "import seaborn\n",
    "import seaborn as sns\n",
    "import matplotlib.pyplot as plt\n",
    "from IPython.display import display, HTML\n",
    "from pylab import rcParams\n",
    "rcParams['figure.figsize'] = 18, 4"
   ]
  },
  {
   "cell_type": "markdown",
   "metadata": {},
   "source": [
    "# Importamos los datos:"
   ]
  },
  {
   "cell_type": "code",
   "execution_count": 2,
   "metadata": {},
   "outputs": [
    {
     "name": "stdout",
     "output_type": "stream",
     "text": [
      "El dataset existe. Continuamos.\n"
     ]
    }
   ],
   "source": [
    "# Nota: El dataset se encuentra comprimido por un tema de volumen. \n",
    "# Esta rutina chequea su existencia y lo extrae en caso de no existir. \n",
    "dataset_filename = '../datos/datos-anonimizados-clientes.csv'\n",
    "\n",
    "if path.isfile(dataset_filename) == False:\n",
    "    zip = zipfile.ZipFile('../datos/datos-anonimizados-clientes.zip')\n",
    "    zip.extractall('../datos/')\n",
    "    print('Dataset extraido. Continuamos.')\n",
    "else:\n",
    "    print('El dataset existe. Continuamos.')\n"
   ]
  },
  {
   "cell_type": "code",
   "execution_count": 3,
   "metadata": {},
   "outputs": [],
   "source": [
    "# set seed for reproducibility\n",
    "np.random.seed(0)"
   ]
  },
  {
   "cell_type": "code",
   "execution_count": 4,
   "metadata": {},
   "outputs": [
    {
     "name": "stderr",
     "output_type": "stream",
     "text": [
      "/Users/facundo/anaconda3/lib/python3.6/site-packages/IPython/core/interactiveshell.py:2728: DtypeWarning: Columns (12,15,28) have mixed types. Specify dtype option on import or set low_memory=False.\n",
      "  interactivity=interactivity, compiler=compiler, result=result)\n"
     ]
    }
   ],
   "source": [
    "# No especificamos columna indice, porque no tenemos una columna con datos unicos\n",
    "ventas_df = pd.read_csv(dataset_filename)"
   ]
  },
  {
   "cell_type": "markdown",
   "metadata": {},
   "source": [
    "Para salvar el warning, definiremos los tipos de datos de cada columna:"
   ]
  },
  {
   "cell_type": "code",
   "execution_count": 5,
   "metadata": {},
   "outputs": [],
   "source": [
    "ventas_df_dtype={'CODIGO_CLIENTE': object,\n",
    " 'RAZON_SOCIAL':  object,\n",
    " 'CUIT': object,\n",
    " 'CATEGORIA_IVA': object,\n",
    " 'GRUPO_CANAL': object,\n",
    " 'CANAL': object,\n",
    " 'SUBCANAL': object,\n",
    " 'APERTURA_ADICIONAL': object,\n",
    " 'CATEGORIA': object,\n",
    " 'ZONA': object,\n",
    " 'ZONA_REPARTO': object,\n",
    " 'CONDICION_VENTA': object,\n",
    " 'CREDITO_MAXIMO': np.dtype('f'),\n",
    " 'CREDITO_MONEDA': object,\n",
    " 'LISTA_PRECIOS': object,\n",
    " 'AGENTE_RETENCION': np.dtype('?'),\n",
    " 'DIAS_TOLERANCIA_COBRO': np.dtype('i'),\n",
    " 'GRUPO': object,\n",
    " 'SOCIEDAD_JURIDICA': object,\n",
    " 'ESTADO': object,\n",
    " 'MOTIVO_ESTADO': object,\n",
    " 'ESQUEMA_COMERCIAL': object,\n",
    " 'DIRECCION_CALLE': object,\n",
    " 'DIRECCION_NUMERO': object,\n",
    " 'CODIGO_POSTAL': object,\n",
    " 'LATITUD': np.dtype('f'),\n",
    " 'LONGITUD': np.dtype('f') ,\n",
    " 'DIRECCION_PRINCIPAL': object,\n",
    " 'FACTURA_CODIGO': object,\n",
    " 'FACTURA_NUMERO': np.dtype('i'),\n",
    " 'FACTURA_SUCURSAL': np.dtype('i'),\n",
    " 'FACTURA_FECHA': object,\n",
    " 'FACTURA_MONTO_TOTAL': np.dtype('f'),\n",
    " 'FACTURA_COND_VENTA': object,\n",
    " 'FACTURA_VENDEDOR': object,\n",
    " 'CODIGO_ARTICULO': object,\n",
    " 'DESCRIPCION': object,\n",
    " 'AGRUPACION_1': object,\n",
    " 'AGRUPACION_2': object,\n",
    " 'AGRUPACION_3': object,\n",
    " 'AGRUPACION_4': object,\n",
    " 'AGRUPACION_5': object,\n",
    " 'AGRUPACION_6': object,\n",
    " 'CANTIDAD': np.dtype('d'),\n",
    " 'UNIDAD_MEDIDA': object,\n",
    " 'PRECIO_UNITARIO': np.dtype('d'),\n",
    " 'PRECIO_TOTAL' : np.dtype('d')}\n"
   ]
  },
  {
   "cell_type": "code",
   "execution_count": 6,
   "metadata": {},
   "outputs": [],
   "source": [
    "ventas_df = pd.read_csv(\"../datos/datos-anonimizados-clientes.csv\",\n",
    "                        dtype=ventas_df_dtype)"
   ]
  },
  {
   "cell_type": "code",
   "execution_count": 7,
   "metadata": {},
   "outputs": [
    {
     "data": {
      "text/plain": [
       "Unnamed: 0                 int64\n",
       "CODIGO_CLIENTE            object\n",
       "RAZON_SOCIAL              object\n",
       "CUIT                      object\n",
       "CATEGORIA_IVA             object\n",
       "GRUPO_CANAL               object\n",
       "CANAL                     object\n",
       "SUBCANAL                  object\n",
       "APERTURA_ADICIONAL        object\n",
       "CATEGORIA                 object\n",
       "ZONA                      object\n",
       "ZONA_REPARTO              object\n",
       "CONDICION_VENTA           object\n",
       "CREDITO_MAXIMO           float32\n",
       "CREDITO_MONEDA            object\n",
       "LISTA_PRECIOS             object\n",
       "AGENTE_RETENCION            bool\n",
       "DIAS_TOLERANCIA_COBRO      int32\n",
       "GRUPO                     object\n",
       "SOCIEDAD_JURIDICA         object\n",
       "ESTADO                    object\n",
       "MOTIVO_ESTADO             object\n",
       "ESQUEMA_COMERCIAL         object\n",
       "FACTURA_CODIGO            object\n",
       "FACTURA_NUM_ID            object\n",
       "FACTURA_SUCURSAL           int32\n",
       "FACTURA_FECHA             object\n",
       "FACTURA_MONTO_TOTAL      float32\n",
       "FACTURA_COND_VENTA        object\n",
       "FACTURA_VENDEDOR          object\n",
       "CODIGO_ARTICULO           object\n",
       "AGRUPACION_1              object\n",
       "AGRUPACION_2              object\n",
       "AGRUPACION_3              object\n",
       "AGRUPACION_4              object\n",
       "AGRUPACION_5              object\n",
       "AGRUPACION_6              object\n",
       "CANTIDAD                 float64\n",
       "UNIDAD_MEDIDA             object\n",
       "PRECIO_UNITARIO          float64\n",
       "PRECIO_TOTAL             float64\n",
       "dtype: object"
      ]
     },
     "execution_count": 7,
     "metadata": {},
     "output_type": "execute_result"
    }
   ],
   "source": [
    "ventas_df.dtypes"
   ]
  },
  {
   "cell_type": "markdown",
   "metadata": {},
   "source": [
    "Obtenemos el tamaño del dataframe en filas y columnas:"
   ]
  },
  {
   "cell_type": "code",
   "execution_count": 8,
   "metadata": {},
   "outputs": [
    {
     "data": {
      "text/html": [
       "<H3>NOTA: El set de datos posee 1,677,680 filas por 41 columnas, lo cual lo hace adecuado para el ejercicio.</h3>"
      ],
      "text/plain": [
       "<IPython.core.display.HTML object>"
      ]
     },
     "metadata": {},
     "output_type": "display_data"
    }
   ],
   "source": [
    "display(HTML('<H3>NOTA: El set de datos posee {0:,.0f} filas por {1} columnas, lo cual lo hace adecuado para el ejercicio.</h3>'.format(len(ventas_df),len(ventas_df.columns))))"
   ]
  },
  {
   "cell_type": "markdown",
   "metadata": {},
   "source": [
    "---"
   ]
  },
  {
   "cell_type": "markdown",
   "metadata": {},
   "source": [
    "## Visualizamos el Dataframe:"
   ]
  },
  {
   "cell_type": "code",
   "execution_count": 9,
   "metadata": {},
   "outputs": [
    {
     "data": {
      "text/html": [
       "<div>\n",
       "<style scoped>\n",
       "    .dataframe tbody tr th:only-of-type {\n",
       "        vertical-align: middle;\n",
       "    }\n",
       "\n",
       "    .dataframe tbody tr th {\n",
       "        vertical-align: top;\n",
       "    }\n",
       "\n",
       "    .dataframe thead th {\n",
       "        text-align: right;\n",
       "    }\n",
       "</style>\n",
       "<table border=\"1\" class=\"dataframe\">\n",
       "  <thead>\n",
       "    <tr style=\"text-align: right;\">\n",
       "      <th></th>\n",
       "      <th>Unnamed: 0</th>\n",
       "      <th>CODIGO_CLIENTE</th>\n",
       "      <th>RAZON_SOCIAL</th>\n",
       "      <th>CUIT</th>\n",
       "      <th>CATEGORIA_IVA</th>\n",
       "      <th>GRUPO_CANAL</th>\n",
       "      <th>CANAL</th>\n",
       "      <th>SUBCANAL</th>\n",
       "      <th>APERTURA_ADICIONAL</th>\n",
       "      <th>CATEGORIA</th>\n",
       "      <th>...</th>\n",
       "      <th>AGRUPACION_1</th>\n",
       "      <th>AGRUPACION_2</th>\n",
       "      <th>AGRUPACION_3</th>\n",
       "      <th>AGRUPACION_4</th>\n",
       "      <th>AGRUPACION_5</th>\n",
       "      <th>AGRUPACION_6</th>\n",
       "      <th>CANTIDAD</th>\n",
       "      <th>UNIDAD_MEDIDA</th>\n",
       "      <th>PRECIO_UNITARIO</th>\n",
       "      <th>PRECIO_TOTAL</th>\n",
       "    </tr>\n",
       "  </thead>\n",
       "  <tbody>\n",
       "    <tr>\n",
       "      <th>0</th>\n",
       "      <td>0</td>\n",
       "      <td>c4798d1002b95e5b0f16f09c62c95e06</td>\n",
       "      <td>ec7c2a1bd7b6b3c9d195ed52ae5d7569</td>\n",
       "      <td>6505d3facde2c86923a7339db59a21ec</td>\n",
       "      <td>RM</td>\n",
       "      <td>000</td>\n",
       "      <td>010</td>\n",
       "      <td>010</td>\n",
       "      <td>010</td>\n",
       "      <td>A</td>\n",
       "      <td>...</td>\n",
       "      <td>012</td>\n",
       "      <td>122</td>\n",
       "      <td>253</td>\n",
       "      <td>012</td>\n",
       "      <td>080</td>\n",
       "      <td>001</td>\n",
       "      <td>1.0</td>\n",
       "      <td>UN</td>\n",
       "      <td>21.5519</td>\n",
       "      <td>26.08</td>\n",
       "    </tr>\n",
       "    <tr>\n",
       "      <th>1</th>\n",
       "      <td>1</td>\n",
       "      <td>c4798d1002b95e5b0f16f09c62c95e06</td>\n",
       "      <td>ec7c2a1bd7b6b3c9d195ed52ae5d7569</td>\n",
       "      <td>6505d3facde2c86923a7339db59a21ec</td>\n",
       "      <td>RM</td>\n",
       "      <td>000</td>\n",
       "      <td>010</td>\n",
       "      <td>010</td>\n",
       "      <td>010</td>\n",
       "      <td>A</td>\n",
       "      <td>...</td>\n",
       "      <td>012</td>\n",
       "      <td>425</td>\n",
       "      <td>700</td>\n",
       "      <td>012</td>\n",
       "      <td>080</td>\n",
       "      <td>001</td>\n",
       "      <td>1.0</td>\n",
       "      <td>UN</td>\n",
       "      <td>10.4264</td>\n",
       "      <td>12.62</td>\n",
       "    </tr>\n",
       "    <tr>\n",
       "      <th>2</th>\n",
       "      <td>2</td>\n",
       "      <td>75eed0dd5091ba851cb1082f5c600404</td>\n",
       "      <td>5e09c84900842536972d00dc670c3fbc</td>\n",
       "      <td>c1660dedd01d4e5c55d3e9f5d549536d</td>\n",
       "      <td>RI</td>\n",
       "      <td>100</td>\n",
       "      <td>100</td>\n",
       "      <td>106</td>\n",
       "      <td>106</td>\n",
       "      <td>C</td>\n",
       "      <td>...</td>\n",
       "      <td>003</td>\n",
       "      <td>185</td>\n",
       "      <td>220</td>\n",
       "      <td>003</td>\n",
       "      <td>033</td>\n",
       "      <td>001</td>\n",
       "      <td>6.0</td>\n",
       "      <td>UN</td>\n",
       "      <td>15.0361</td>\n",
       "      <td>109.16</td>\n",
       "    </tr>\n",
       "    <tr>\n",
       "      <th>3</th>\n",
       "      <td>3</td>\n",
       "      <td>75eed0dd5091ba851cb1082f5c600404</td>\n",
       "      <td>5e09c84900842536972d00dc670c3fbc</td>\n",
       "      <td>c1660dedd01d4e5c55d3e9f5d549536d</td>\n",
       "      <td>RI</td>\n",
       "      <td>100</td>\n",
       "      <td>100</td>\n",
       "      <td>106</td>\n",
       "      <td>106</td>\n",
       "      <td>C</td>\n",
       "      <td>...</td>\n",
       "      <td>091</td>\n",
       "      <td>034</td>\n",
       "      <td>101</td>\n",
       "      <td>003</td>\n",
       "      <td>021</td>\n",
       "      <td>001</td>\n",
       "      <td>12.0</td>\n",
       "      <td>UN</td>\n",
       "      <td>8.0380</td>\n",
       "      <td>116.72</td>\n",
       "    </tr>\n",
       "    <tr>\n",
       "      <th>4</th>\n",
       "      <td>4</td>\n",
       "      <td>d7b59972e86f00e016b54288826786ae</td>\n",
       "      <td>24dc84bc7bc604e81717f2356fbd278b</td>\n",
       "      <td>4334910e09a671816fe006c0d9b9beb8</td>\n",
       "      <td>RM</td>\n",
       "      <td>000</td>\n",
       "      <td>010</td>\n",
       "      <td>010</td>\n",
       "      <td>010</td>\n",
       "      <td>A</td>\n",
       "      <td>...</td>\n",
       "      <td>012</td>\n",
       "      <td>302</td>\n",
       "      <td>402</td>\n",
       "      <td>012</td>\n",
       "      <td>126</td>\n",
       "      <td>001</td>\n",
       "      <td>6.0</td>\n",
       "      <td>UN</td>\n",
       "      <td>14.3429</td>\n",
       "      <td>104.13</td>\n",
       "    </tr>\n",
       "  </tbody>\n",
       "</table>\n",
       "<p>5 rows × 41 columns</p>\n",
       "</div>"
      ],
      "text/plain": [
       "   Unnamed: 0                    CODIGO_CLIENTE  \\\n",
       "0           0  c4798d1002b95e5b0f16f09c62c95e06   \n",
       "1           1  c4798d1002b95e5b0f16f09c62c95e06   \n",
       "2           2  75eed0dd5091ba851cb1082f5c600404   \n",
       "3           3  75eed0dd5091ba851cb1082f5c600404   \n",
       "4           4  d7b59972e86f00e016b54288826786ae   \n",
       "\n",
       "                       RAZON_SOCIAL                              CUIT  \\\n",
       "0  ec7c2a1bd7b6b3c9d195ed52ae5d7569  6505d3facde2c86923a7339db59a21ec   \n",
       "1  ec7c2a1bd7b6b3c9d195ed52ae5d7569  6505d3facde2c86923a7339db59a21ec   \n",
       "2  5e09c84900842536972d00dc670c3fbc  c1660dedd01d4e5c55d3e9f5d549536d   \n",
       "3  5e09c84900842536972d00dc670c3fbc  c1660dedd01d4e5c55d3e9f5d549536d   \n",
       "4  24dc84bc7bc604e81717f2356fbd278b  4334910e09a671816fe006c0d9b9beb8   \n",
       "\n",
       "  CATEGORIA_IVA GRUPO_CANAL CANAL SUBCANAL APERTURA_ADICIONAL CATEGORIA  \\\n",
       "0            RM         000   010      010                010       A     \n",
       "1            RM         000   010      010                010       A     \n",
       "2            RI         100   100      106                106       C     \n",
       "3            RI         100   100      106                106       C     \n",
       "4            RM         000   010      010                010       A     \n",
       "\n",
       "      ...      AGRUPACION_1 AGRUPACION_2 AGRUPACION_3  AGRUPACION_4  \\\n",
       "0     ...               012          122          253           012   \n",
       "1     ...               012          425          700           012   \n",
       "2     ...               003          185          220           003   \n",
       "3     ...               091          034          101           003   \n",
       "4     ...               012          302          402           012   \n",
       "\n",
       "  AGRUPACION_5 AGRUPACION_6  CANTIDAD  UNIDAD_MEDIDA PRECIO_UNITARIO  \\\n",
       "0          080          001       1.0          UN            21.5519   \n",
       "1          080          001       1.0          UN            10.4264   \n",
       "2          033          001       6.0          UN            15.0361   \n",
       "3          021          001      12.0          UN             8.0380   \n",
       "4          126          001       6.0          UN            14.3429   \n",
       "\n",
       "  PRECIO_TOTAL  \n",
       "0        26.08  \n",
       "1        12.62  \n",
       "2       109.16  \n",
       "3       116.72  \n",
       "4       104.13  \n",
       "\n",
       "[5 rows x 41 columns]"
      ]
     },
     "execution_count": 9,
     "metadata": {},
     "output_type": "execute_result"
    }
   ],
   "source": [
    "ventas_df[:5]"
   ]
  },
  {
   "cell_type": "code",
   "execution_count": 10,
   "metadata": {},
   "outputs": [
    {
     "name": "stdout",
     "output_type": "stream",
     "text": [
      "CODIGO_CLIENTE Not unique\n",
      "indice Unique\n"
     ]
    }
   ],
   "source": [
    "# El codigo cliente no es único, usamos la columna indice para identificarla univocamente\n",
    "if ventas_df['CODIGO_CLIENTE'].size == ventas_df['CODIGO_CLIENTE'].unique().size:\n",
    "    print(\"CODIGO_CLIENTE Unique\")\n",
    "else:\n",
    "    print(\"CODIGO_CLIENTE Not unique\")\n",
    "ventas_df.rename(columns={'Unnamed: 0':'indice'}, inplace=True)\n",
    "if ventas_df['indice'].size == ventas_df['indice'].unique().size:\n",
    "    print(\"indice Unique\")\n",
    "else:\n",
    "    print(\"indice Not unique\")"
   ]
  },
  {
   "cell_type": "code",
   "execution_count": 11,
   "metadata": {},
   "outputs": [
    {
     "name": "stdout",
     "output_type": "stream",
     "text": [
      "No hay filas duplicadas!\n"
     ]
    }
   ],
   "source": [
    "# Eliminamos filas repetidas\n",
    "len_orig = len(ventas_df)\n",
    "ventas_df = ventas_df.drop_duplicates()\n",
    "len_no_duplicates = len(ventas_df)\n",
    "\n",
    "if len_orig == len_orig:\n",
    "    print(\"No hay filas duplicadas!\")"
   ]
  },
  {
   "cell_type": "code",
   "execution_count": 12,
   "metadata": {},
   "outputs": [
    {
     "data": {
      "text/plain": [
       "Index(['indice', 'CODIGO_CLIENTE', 'RAZON_SOCIAL', 'CUIT', 'CATEGORIA_IVA',\n",
       "       'GRUPO_CANAL', 'CANAL', 'SUBCANAL', 'APERTURA_ADICIONAL', 'CATEGORIA',\n",
       "       'ZONA', 'ZONA_REPARTO', 'CONDICION_VENTA', 'CREDITO_MAXIMO',\n",
       "       'CREDITO_MONEDA', 'LISTA_PRECIOS', 'AGENTE_RETENCION',\n",
       "       'DIAS_TOLERANCIA_COBRO', 'GRUPO', 'SOCIEDAD_JURIDICA', 'ESTADO',\n",
       "       'MOTIVO_ESTADO', 'ESQUEMA_COMERCIAL', 'FACTURA_CODIGO',\n",
       "       'FACTURA_NUM_ID', 'FACTURA_SUCURSAL', 'FACTURA_FECHA',\n",
       "       'FACTURA_MONTO_TOTAL', 'FACTURA_COND_VENTA', 'FACTURA_VENDEDOR',\n",
       "       'CODIGO_ARTICULO', 'AGRUPACION_1', 'AGRUPACION_2', 'AGRUPACION_3',\n",
       "       'AGRUPACION_4', 'AGRUPACION_5', 'AGRUPACION_6', 'CANTIDAD',\n",
       "       'UNIDAD_MEDIDA', 'PRECIO_UNITARIO', 'PRECIO_TOTAL'],\n",
       "      dtype='object')"
      ]
     },
     "execution_count": 12,
     "metadata": {},
     "output_type": "execute_result"
    }
   ],
   "source": [
    "ventas_df.columns"
   ]
  },
  {
   "cell_type": "markdown",
   "metadata": {},
   "source": [
    "# Pasos necesarios:"
   ]
  },
  {
   "cell_type": "markdown",
   "metadata": {},
   "source": [
    "#### Verificar Nombres de Columnas. \n",
    "Los nombres de las columnas fueron verificados al espeficar el tipo de datos y no contienen caracteres especiales.\n",
    "La razón social es era la unica variable suceptible a contener caracteres especiales pero, se le aplicó la funcion para despersonalizar los nombres. \n",
    "La otra variable que puede llegar a tener caracteres especiales es ESQUEMA_COMERCIAL"
   ]
  },
  {
   "cell_type": "code",
   "execution_count": 13,
   "metadata": {},
   "outputs": [],
   "source": [
    "import ftfy.badness as bad\n",
    "\n",
    "def weird(val):\n",
    "    if isinstance(val, float): \n",
    "        return 0\n",
    "    return bad.sequence_weirdness(val)\n",
    "\n",
    "db_copy = ventas_df\n",
    "db_copy['bad_char'] = ventas_df['ESQUEMA_COMERCIAL'].apply(weird)\n"
   ]
  },
  {
   "cell_type": "code",
   "execution_count": 14,
   "metadata": {},
   "outputs": [
    {
     "data": {
      "text/html": [
       "<div>\n",
       "<style scoped>\n",
       "    .dataframe tbody tr th:only-of-type {\n",
       "        vertical-align: middle;\n",
       "    }\n",
       "\n",
       "    .dataframe tbody tr th {\n",
       "        vertical-align: top;\n",
       "    }\n",
       "\n",
       "    .dataframe thead th {\n",
       "        text-align: right;\n",
       "    }\n",
       "</style>\n",
       "<table border=\"1\" class=\"dataframe\">\n",
       "  <thead>\n",
       "    <tr style=\"text-align: right;\">\n",
       "      <th></th>\n",
       "      <th>indice</th>\n",
       "      <th>CODIGO_CLIENTE</th>\n",
       "      <th>RAZON_SOCIAL</th>\n",
       "      <th>CUIT</th>\n",
       "      <th>CATEGORIA_IVA</th>\n",
       "      <th>GRUPO_CANAL</th>\n",
       "      <th>CANAL</th>\n",
       "      <th>SUBCANAL</th>\n",
       "      <th>APERTURA_ADICIONAL</th>\n",
       "      <th>CATEGORIA</th>\n",
       "      <th>...</th>\n",
       "      <th>AGRUPACION_2</th>\n",
       "      <th>AGRUPACION_3</th>\n",
       "      <th>AGRUPACION_4</th>\n",
       "      <th>AGRUPACION_5</th>\n",
       "      <th>AGRUPACION_6</th>\n",
       "      <th>CANTIDAD</th>\n",
       "      <th>UNIDAD_MEDIDA</th>\n",
       "      <th>PRECIO_UNITARIO</th>\n",
       "      <th>PRECIO_TOTAL</th>\n",
       "      <th>bad_char</th>\n",
       "    </tr>\n",
       "  </thead>\n",
       "  <tbody>\n",
       "  </tbody>\n",
       "</table>\n",
       "<p>0 rows × 42 columns</p>\n",
       "</div>"
      ],
      "text/plain": [
       "Empty DataFrame\n",
       "Columns: [indice, CODIGO_CLIENTE, RAZON_SOCIAL, CUIT, CATEGORIA_IVA, GRUPO_CANAL, CANAL, SUBCANAL, APERTURA_ADICIONAL, CATEGORIA, ZONA, ZONA_REPARTO, CONDICION_VENTA, CREDITO_MAXIMO, CREDITO_MONEDA, LISTA_PRECIOS, AGENTE_RETENCION, DIAS_TOLERANCIA_COBRO, GRUPO, SOCIEDAD_JURIDICA, ESTADO, MOTIVO_ESTADO, ESQUEMA_COMERCIAL, FACTURA_CODIGO, FACTURA_NUM_ID, FACTURA_SUCURSAL, FACTURA_FECHA, FACTURA_MONTO_TOTAL, FACTURA_COND_VENTA, FACTURA_VENDEDOR, CODIGO_ARTICULO, AGRUPACION_1, AGRUPACION_2, AGRUPACION_3, AGRUPACION_4, AGRUPACION_5, AGRUPACION_6, CANTIDAD, UNIDAD_MEDIDA, PRECIO_UNITARIO, PRECIO_TOTAL, bad_char]\n",
       "Index: []\n",
       "\n",
       "[0 rows x 42 columns]"
      ]
     },
     "execution_count": 14,
     "metadata": {},
     "output_type": "execute_result"
    }
   ],
   "source": [
    "# Verificamos si posee alguna linea con caracteres especiales en esa columna\n",
    "db_copy[db_copy['bad_char'] > 1]\n",
    "# No devilvió filas, por lo tanto no cuenta con caracteres especiales"
   ]
  },
  {
   "cell_type": "code",
   "execution_count": null,
   "metadata": {},
   "outputs": [],
   "source": []
  },
  {
   "cell_type": "markdown",
   "metadata": {},
   "source": [
    "#### Tratar valores faltantes\n"
   ]
  },
  {
   "cell_type": "code",
   "execution_count": 15,
   "metadata": {},
   "outputs": [],
   "source": [
    "# TODO"
   ]
  },
  {
   "cell_type": "markdown",
   "metadata": {},
   "source": [
    "#### Codificar variables\n"
   ]
  },
  {
   "cell_type": "code",
   "execution_count": 16,
   "metadata": {},
   "outputs": [
    {
     "data": {
      "text/html": [
       "<div>\n",
       "<style scoped>\n",
       "    .dataframe tbody tr th:only-of-type {\n",
       "        vertical-align: middle;\n",
       "    }\n",
       "\n",
       "    .dataframe tbody tr th {\n",
       "        vertical-align: top;\n",
       "    }\n",
       "\n",
       "    .dataframe thead th {\n",
       "        text-align: right;\n",
       "    }\n",
       "</style>\n",
       "<table border=\"1\" class=\"dataframe\">\n",
       "  <thead>\n",
       "    <tr style=\"text-align: right;\">\n",
       "      <th></th>\n",
       "      <th>CODIGO_CLIENTE</th>\n",
       "      <th>RAZON_SOCIAL</th>\n",
       "      <th>CUIT</th>\n",
       "      <th>CATEGORIA_IVA</th>\n",
       "      <th>GRUPO_CANAL</th>\n",
       "      <th>CANAL</th>\n",
       "      <th>SUBCANAL</th>\n",
       "      <th>APERTURA_ADICIONAL</th>\n",
       "      <th>CATEGORIA</th>\n",
       "      <th>ZONA</th>\n",
       "      <th>...</th>\n",
       "      <th>FACTURA_COND_VENTA</th>\n",
       "      <th>FACTURA_VENDEDOR</th>\n",
       "      <th>CODIGO_ARTICULO</th>\n",
       "      <th>AGRUPACION_1</th>\n",
       "      <th>AGRUPACION_2</th>\n",
       "      <th>AGRUPACION_3</th>\n",
       "      <th>AGRUPACION_4</th>\n",
       "      <th>AGRUPACION_5</th>\n",
       "      <th>AGRUPACION_6</th>\n",
       "      <th>UNIDAD_MEDIDA</th>\n",
       "    </tr>\n",
       "  </thead>\n",
       "  <tbody>\n",
       "    <tr>\n",
       "      <th>count</th>\n",
       "      <td>1677680</td>\n",
       "      <td>1677680</td>\n",
       "      <td>1677680</td>\n",
       "      <td>1677680</td>\n",
       "      <td>1677680</td>\n",
       "      <td>1677680</td>\n",
       "      <td>1677680</td>\n",
       "      <td>1677680</td>\n",
       "      <td>1677680</td>\n",
       "      <td>1677680</td>\n",
       "      <td>...</td>\n",
       "      <td>1677680</td>\n",
       "      <td>1677680</td>\n",
       "      <td>1677680</td>\n",
       "      <td>1677680</td>\n",
       "      <td>1675594</td>\n",
       "      <td>1676085</td>\n",
       "      <td>1677680</td>\n",
       "      <td>1676196</td>\n",
       "      <td>1677680</td>\n",
       "      <td>1677680</td>\n",
       "    </tr>\n",
       "    <tr>\n",
       "      <th>unique</th>\n",
       "      <td>2508</td>\n",
       "      <td>2458</td>\n",
       "      <td>2124</td>\n",
       "      <td>6</td>\n",
       "      <td>2</td>\n",
       "      <td>6</td>\n",
       "      <td>22</td>\n",
       "      <td>27</td>\n",
       "      <td>5</td>\n",
       "      <td>5</td>\n",
       "      <td>...</td>\n",
       "      <td>11</td>\n",
       "      <td>22</td>\n",
       "      <td>1980</td>\n",
       "      <td>12</td>\n",
       "      <td>181</td>\n",
       "      <td>319</td>\n",
       "      <td>6</td>\n",
       "      <td>84</td>\n",
       "      <td>3</td>\n",
       "      <td>3</td>\n",
       "    </tr>\n",
       "    <tr>\n",
       "      <th>top</th>\n",
       "      <td>65f982b05dba94f8565335eecb46e4da</td>\n",
       "      <td>ec7c2a1bd7b6b3c9d195ed52ae5d7569</td>\n",
       "      <td>6505d3facde2c86923a7339db59a21ec</td>\n",
       "      <td>RM</td>\n",
       "      <td>000</td>\n",
       "      <td>000</td>\n",
       "      <td>000</td>\n",
       "      <td>000</td>\n",
       "      <td>A</td>\n",
       "      <td>15</td>\n",
       "      <td>...</td>\n",
       "      <td>00</td>\n",
       "      <td>035</td>\n",
       "      <td>000-000-6805</td>\n",
       "      <td>001</td>\n",
       "      <td>050</td>\n",
       "      <td>050</td>\n",
       "      <td>012</td>\n",
       "      <td>061</td>\n",
       "      <td>001</td>\n",
       "      <td>UN</td>\n",
       "    </tr>\n",
       "    <tr>\n",
       "      <th>freq</th>\n",
       "      <td>27077</td>\n",
       "      <td>61505</td>\n",
       "      <td>141045</td>\n",
       "      <td>877537</td>\n",
       "      <td>1506486</td>\n",
       "      <td>586543</td>\n",
       "      <td>586543</td>\n",
       "      <td>586543</td>\n",
       "      <td>488694</td>\n",
       "      <td>1049450</td>\n",
       "      <td>...</td>\n",
       "      <td>1189400</td>\n",
       "      <td>166394</td>\n",
       "      <td>21826</td>\n",
       "      <td>426036</td>\n",
       "      <td>79750</td>\n",
       "      <td>60936</td>\n",
       "      <td>706084</td>\n",
       "      <td>146118</td>\n",
       "      <td>1663071</td>\n",
       "      <td>1127573</td>\n",
       "    </tr>\n",
       "  </tbody>\n",
       "</table>\n",
       "<p>4 rows × 32 columns</p>\n",
       "</div>"
      ],
      "text/plain": [
       "                          CODIGO_CLIENTE                      RAZON_SOCIAL  \\\n",
       "count                            1677680                           1677680   \n",
       "unique                              2508                              2458   \n",
       "top     65f982b05dba94f8565335eecb46e4da  ec7c2a1bd7b6b3c9d195ed52ae5d7569   \n",
       "freq                               27077                             61505   \n",
       "\n",
       "                                    CUIT CATEGORIA_IVA GRUPO_CANAL    CANAL  \\\n",
       "count                            1677680       1677680     1677680  1677680   \n",
       "unique                              2124             6           2        6   \n",
       "top     6505d3facde2c86923a7339db59a21ec            RM         000      000   \n",
       "freq                              141045        877537     1506486   586543   \n",
       "\n",
       "       SUBCANAL APERTURA_ADICIONAL CATEGORIA     ZONA      ...       \\\n",
       "count   1677680            1677680   1677680  1677680      ...        \n",
       "unique       22                 27         5        5      ...        \n",
       "top         000                000       A        15       ...        \n",
       "freq     586543             586543    488694  1049450      ...        \n",
       "\n",
       "       FACTURA_COND_VENTA FACTURA_VENDEDOR CODIGO_ARTICULO AGRUPACION_1  \\\n",
       "count             1677680          1677680         1677680      1677680   \n",
       "unique                 11               22            1980           12   \n",
       "top                 00               035      000-000-6805          001   \n",
       "freq              1189400           166394           21826       426036   \n",
       "\n",
       "       AGRUPACION_2 AGRUPACION_3 AGRUPACION_4 AGRUPACION_5 AGRUPACION_6  \\\n",
       "count       1675594      1676085      1677680      1676196      1677680   \n",
       "unique          181          319            6           84            3   \n",
       "top             050          050          012          061          001   \n",
       "freq          79750        60936       706084       146118      1663071   \n",
       "\n",
       "       UNIDAD_MEDIDA  \n",
       "count        1677680  \n",
       "unique             3  \n",
       "top            UN     \n",
       "freq         1127573  \n",
       "\n",
       "[4 rows x 32 columns]"
      ]
     },
     "execution_count": 16,
     "metadata": {},
     "output_type": "execute_result"
    }
   ],
   "source": [
    "ventas_df.describe(include=['O'])"
   ]
  },
  {
   "cell_type": "code",
   "execution_count": 17,
   "metadata": {},
   "outputs": [],
   "source": [
    "from sklearn import preprocessing\n",
    "\n",
    "\n",
    "# Create a label (category) encoder object\n",
    "le_cat_iva = preprocessing.LabelEncoder()\n",
    "le_cat = preprocessing.LabelEncoder()\n",
    "le_cred_mon = preprocessing.LabelEncoder()\n",
    "le_soc_jur = preprocessing.LabelEncoder()\n",
    "le_estado = preprocessing.LabelEncoder()\n",
    "le_mot_estado = preprocessing.LabelEncoder()\n",
    "le_esq_com = preprocessing.LabelEncoder()\n",
    "le_fac_cod = preprocessing.LabelEncoder()\n",
    "le_uni_med = preprocessing.LabelEncoder()"
   ]
  },
  {
   "cell_type": "code",
   "execution_count": 18,
   "metadata": {},
   "outputs": [
    {
     "data": {
      "text/plain": [
       "LabelEncoder()"
      ]
     },
     "execution_count": 18,
     "metadata": {},
     "output_type": "execute_result"
    }
   ],
   "source": [
    "# Fit the encoder to the pandas column\n",
    "le_cat_iva.fit(ventas_df[\"CATEGORIA_IVA\"])\n",
    "le_cat.fit(ventas_df[\"CATEGORIA\"])\n",
    "le_estado.fit(ventas_df[\"ESTADO\"])\n",
    "le_fac_cod.fit(ventas_df[\"FACTURA_CODIGO\"])\n",
    "le_uni_med.fit(ventas_df[\"UNIDAD_MEDIDA\"])\n",
    "le_esq_com.fit(ventas_df[\"ESQUEMA_COMERCIAL\"].astype(str))\n",
    "le_mot_estado.fit(ventas_df[\"MOTIVO_ESTADO\"].astype(str))\n",
    "le_cred_mon.fit(ventas_df[\"CREDITO_MONEDA\"].astype(str))\n",
    "le_soc_jur.fit(ventas_df[\"SOCIEDAD_JURIDICA\"].astype(str))"
   ]
  },
  {
   "cell_type": "code",
   "execution_count": 19,
   "metadata": {},
   "outputs": [
    {
     "data": {
      "text/plain": [
       "{'EX': 0, 'MR': 1, 'NC': 2, 'RI': 3, 'RM': 4, 'rm': 5}"
      ]
     },
     "execution_count": 19,
     "metadata": {},
     "output_type": "execute_result"
    }
   ],
   "source": [
    "# vemos un ejemplo de como queda codificado.\n",
    "dict(zip(le_cat_iva.classes_,le_cat_iva.transform(le_cat_iva.classes_)))"
   ]
  },
  {
   "cell_type": "code",
   "execution_count": 20,
   "metadata": {},
   "outputs": [],
   "source": [
    "# Apply the fitted encoder to the pandas column\n",
    "ventas_df[\"CATEGORIA_IVA\"] = le_cat_iva.transform(ventas_df[\"CATEGORIA_IVA\"]) \n",
    "ventas_df[\"CATEGORIA\"] = le_cat.transform(ventas_df[\"CATEGORIA\"]) \n",
    "ventas_df[\"ESTADO\"] = le_estado.transform(ventas_df[\"ESTADO\"]) \n",
    "ventas_df[\"FACTURA_CODIGO\"] = le_fac_cod.transform(ventas_df[\"FACTURA_CODIGO\"]) \n",
    "ventas_df[\"UNIDAD_MEDIDA\"] = le_uni_med.transform(ventas_df[\"UNIDAD_MEDIDA\"]) \n",
    "ventas_df[\"ESQUEMA_COMERCIAL\"] = le_esq_com.transform(ventas_df[\"ESQUEMA_COMERCIAL\"].astype(str)) \n",
    "ventas_df[\"MOTIVO_ESTADO\"] = le_mot_estado.transform(ventas_df[\"MOTIVO_ESTADO\"].astype(str)) \n",
    "ventas_df[\"CREDITO_MONEDA\"] = le_cred_mon.transform(ventas_df[\"CREDITO_MONEDA\"].astype(str)) \n",
    "ventas_df[\"SOCIEDAD_JURIDICA\"] = le_soc_jur.transform(ventas_df[\"SOCIEDAD_JURIDICA\"].astype(str)) "
   ]
  },
  {
   "cell_type": "code",
   "execution_count": 21,
   "metadata": {},
   "outputs": [
    {
     "data": {
      "text/html": [
       "<div>\n",
       "<style scoped>\n",
       "    .dataframe tbody tr th:only-of-type {\n",
       "        vertical-align: middle;\n",
       "    }\n",
       "\n",
       "    .dataframe tbody tr th {\n",
       "        vertical-align: top;\n",
       "    }\n",
       "\n",
       "    .dataframe thead th {\n",
       "        text-align: right;\n",
       "    }\n",
       "</style>\n",
       "<table border=\"1\" class=\"dataframe\">\n",
       "  <thead>\n",
       "    <tr style=\"text-align: right;\">\n",
       "      <th></th>\n",
       "      <th>indice</th>\n",
       "      <th>CODIGO_CLIENTE</th>\n",
       "      <th>RAZON_SOCIAL</th>\n",
       "      <th>CUIT</th>\n",
       "      <th>CATEGORIA_IVA</th>\n",
       "      <th>GRUPO_CANAL</th>\n",
       "      <th>CANAL</th>\n",
       "      <th>SUBCANAL</th>\n",
       "      <th>APERTURA_ADICIONAL</th>\n",
       "      <th>CATEGORIA</th>\n",
       "      <th>...</th>\n",
       "      <th>AGRUPACION_2</th>\n",
       "      <th>AGRUPACION_3</th>\n",
       "      <th>AGRUPACION_4</th>\n",
       "      <th>AGRUPACION_5</th>\n",
       "      <th>AGRUPACION_6</th>\n",
       "      <th>CANTIDAD</th>\n",
       "      <th>UNIDAD_MEDIDA</th>\n",
       "      <th>PRECIO_UNITARIO</th>\n",
       "      <th>PRECIO_TOTAL</th>\n",
       "      <th>bad_char</th>\n",
       "    </tr>\n",
       "  </thead>\n",
       "  <tbody>\n",
       "    <tr>\n",
       "      <th>0</th>\n",
       "      <td>0</td>\n",
       "      <td>c4798d1002b95e5b0f16f09c62c95e06</td>\n",
       "      <td>ec7c2a1bd7b6b3c9d195ed52ae5d7569</td>\n",
       "      <td>6505d3facde2c86923a7339db59a21ec</td>\n",
       "      <td>4</td>\n",
       "      <td>000</td>\n",
       "      <td>010</td>\n",
       "      <td>010</td>\n",
       "      <td>010</td>\n",
       "      <td>0</td>\n",
       "      <td>...</td>\n",
       "      <td>122</td>\n",
       "      <td>253</td>\n",
       "      <td>012</td>\n",
       "      <td>080</td>\n",
       "      <td>001</td>\n",
       "      <td>1.0</td>\n",
       "      <td>2</td>\n",
       "      <td>21.5519</td>\n",
       "      <td>26.08</td>\n",
       "      <td>0</td>\n",
       "    </tr>\n",
       "    <tr>\n",
       "      <th>1</th>\n",
       "      <td>1</td>\n",
       "      <td>c4798d1002b95e5b0f16f09c62c95e06</td>\n",
       "      <td>ec7c2a1bd7b6b3c9d195ed52ae5d7569</td>\n",
       "      <td>6505d3facde2c86923a7339db59a21ec</td>\n",
       "      <td>4</td>\n",
       "      <td>000</td>\n",
       "      <td>010</td>\n",
       "      <td>010</td>\n",
       "      <td>010</td>\n",
       "      <td>0</td>\n",
       "      <td>...</td>\n",
       "      <td>425</td>\n",
       "      <td>700</td>\n",
       "      <td>012</td>\n",
       "      <td>080</td>\n",
       "      <td>001</td>\n",
       "      <td>1.0</td>\n",
       "      <td>2</td>\n",
       "      <td>10.4264</td>\n",
       "      <td>12.62</td>\n",
       "      <td>0</td>\n",
       "    </tr>\n",
       "    <tr>\n",
       "      <th>2</th>\n",
       "      <td>2</td>\n",
       "      <td>75eed0dd5091ba851cb1082f5c600404</td>\n",
       "      <td>5e09c84900842536972d00dc670c3fbc</td>\n",
       "      <td>c1660dedd01d4e5c55d3e9f5d549536d</td>\n",
       "      <td>3</td>\n",
       "      <td>100</td>\n",
       "      <td>100</td>\n",
       "      <td>106</td>\n",
       "      <td>106</td>\n",
       "      <td>3</td>\n",
       "      <td>...</td>\n",
       "      <td>185</td>\n",
       "      <td>220</td>\n",
       "      <td>003</td>\n",
       "      <td>033</td>\n",
       "      <td>001</td>\n",
       "      <td>6.0</td>\n",
       "      <td>2</td>\n",
       "      <td>15.0361</td>\n",
       "      <td>109.16</td>\n",
       "      <td>0</td>\n",
       "    </tr>\n",
       "    <tr>\n",
       "      <th>3</th>\n",
       "      <td>3</td>\n",
       "      <td>75eed0dd5091ba851cb1082f5c600404</td>\n",
       "      <td>5e09c84900842536972d00dc670c3fbc</td>\n",
       "      <td>c1660dedd01d4e5c55d3e9f5d549536d</td>\n",
       "      <td>3</td>\n",
       "      <td>100</td>\n",
       "      <td>100</td>\n",
       "      <td>106</td>\n",
       "      <td>106</td>\n",
       "      <td>3</td>\n",
       "      <td>...</td>\n",
       "      <td>034</td>\n",
       "      <td>101</td>\n",
       "      <td>003</td>\n",
       "      <td>021</td>\n",
       "      <td>001</td>\n",
       "      <td>12.0</td>\n",
       "      <td>2</td>\n",
       "      <td>8.0380</td>\n",
       "      <td>116.72</td>\n",
       "      <td>0</td>\n",
       "    </tr>\n",
       "    <tr>\n",
       "      <th>4</th>\n",
       "      <td>4</td>\n",
       "      <td>d7b59972e86f00e016b54288826786ae</td>\n",
       "      <td>24dc84bc7bc604e81717f2356fbd278b</td>\n",
       "      <td>4334910e09a671816fe006c0d9b9beb8</td>\n",
       "      <td>4</td>\n",
       "      <td>000</td>\n",
       "      <td>010</td>\n",
       "      <td>010</td>\n",
       "      <td>010</td>\n",
       "      <td>0</td>\n",
       "      <td>...</td>\n",
       "      <td>302</td>\n",
       "      <td>402</td>\n",
       "      <td>012</td>\n",
       "      <td>126</td>\n",
       "      <td>001</td>\n",
       "      <td>6.0</td>\n",
       "      <td>2</td>\n",
       "      <td>14.3429</td>\n",
       "      <td>104.13</td>\n",
       "      <td>0</td>\n",
       "    </tr>\n",
       "  </tbody>\n",
       "</table>\n",
       "<p>5 rows × 42 columns</p>\n",
       "</div>"
      ],
      "text/plain": [
       "   indice                    CODIGO_CLIENTE                      RAZON_SOCIAL  \\\n",
       "0       0  c4798d1002b95e5b0f16f09c62c95e06  ec7c2a1bd7b6b3c9d195ed52ae5d7569   \n",
       "1       1  c4798d1002b95e5b0f16f09c62c95e06  ec7c2a1bd7b6b3c9d195ed52ae5d7569   \n",
       "2       2  75eed0dd5091ba851cb1082f5c600404  5e09c84900842536972d00dc670c3fbc   \n",
       "3       3  75eed0dd5091ba851cb1082f5c600404  5e09c84900842536972d00dc670c3fbc   \n",
       "4       4  d7b59972e86f00e016b54288826786ae  24dc84bc7bc604e81717f2356fbd278b   \n",
       "\n",
       "                               CUIT  CATEGORIA_IVA GRUPO_CANAL CANAL SUBCANAL  \\\n",
       "0  6505d3facde2c86923a7339db59a21ec              4         000   010      010   \n",
       "1  6505d3facde2c86923a7339db59a21ec              4         000   010      010   \n",
       "2  c1660dedd01d4e5c55d3e9f5d549536d              3         100   100      106   \n",
       "3  c1660dedd01d4e5c55d3e9f5d549536d              3         100   100      106   \n",
       "4  4334910e09a671816fe006c0d9b9beb8              4         000   010      010   \n",
       "\n",
       "  APERTURA_ADICIONAL  CATEGORIA    ...    AGRUPACION_2 AGRUPACION_3  \\\n",
       "0                010          0    ...             122          253   \n",
       "1                010          0    ...             425          700   \n",
       "2                106          3    ...             185          220   \n",
       "3                106          3    ...             034          101   \n",
       "4                010          0    ...             302          402   \n",
       "\n",
       "  AGRUPACION_4  AGRUPACION_5  AGRUPACION_6 CANTIDAD  UNIDAD_MEDIDA  \\\n",
       "0          012           080           001      1.0              2   \n",
       "1          012           080           001      1.0              2   \n",
       "2          003           033           001      6.0              2   \n",
       "3          003           021           001     12.0              2   \n",
       "4          012           126           001      6.0              2   \n",
       "\n",
       "   PRECIO_UNITARIO PRECIO_TOTAL  bad_char  \n",
       "0          21.5519        26.08         0  \n",
       "1          10.4264        12.62         0  \n",
       "2          15.0361       109.16         0  \n",
       "3           8.0380       116.72         0  \n",
       "4          14.3429       104.13         0  \n",
       "\n",
       "[5 rows x 42 columns]"
      ]
     },
     "execution_count": 21,
     "metadata": {},
     "output_type": "execute_result"
    }
   ],
   "source": [
    "# Verificamos que los datos de las columnas categoricas han sido correctamente codificados.\n",
    "ventas_df.head()"
   ]
  },
  {
   "cell_type": "code",
   "execution_count": 22,
   "metadata": {},
   "outputs": [],
   "source": [
    "## desglozamos la columna CATEGORIA_IVA\n",
    "from sklearn.preprocessing import LabelBinarizer\n",
    "\n",
    "lb = LabelBinarizer()\n",
    "lb_results = lb.fit_transform(ventas_df[\"CATEGORIA\"])"
   ]
  },
  {
   "cell_type": "code",
   "execution_count": 23,
   "metadata": {},
   "outputs": [],
   "source": [
    "# toma los datos como string, es raro. TODO\n",
    "#pd.DataFrame(ventas_df, columns=((\"CATEGORIA\" + '_') + pd.Series(lb.classes_)))"
   ]
  },
  {
   "cell_type": "code",
   "execution_count": 24,
   "metadata": {},
   "outputs": [
    {
     "data": {
      "text/html": [
       "<div>\n",
       "<style scoped>\n",
       "    .dataframe tbody tr th:only-of-type {\n",
       "        vertical-align: middle;\n",
       "    }\n",
       "\n",
       "    .dataframe tbody tr th {\n",
       "        vertical-align: top;\n",
       "    }\n",
       "\n",
       "    .dataframe thead th {\n",
       "        text-align: right;\n",
       "    }\n",
       "</style>\n",
       "<table border=\"1\" class=\"dataframe\">\n",
       "  <thead>\n",
       "    <tr style=\"text-align: right;\">\n",
       "      <th></th>\n",
       "      <th>indice</th>\n",
       "      <th>CODIGO_CLIENTE</th>\n",
       "      <th>RAZON_SOCIAL</th>\n",
       "      <th>CUIT</th>\n",
       "      <th>CATEGORIA_IVA</th>\n",
       "      <th>GRUPO_CANAL</th>\n",
       "      <th>CANAL</th>\n",
       "      <th>SUBCANAL</th>\n",
       "      <th>APERTURA_ADICIONAL</th>\n",
       "      <th>CATEGORIA</th>\n",
       "      <th>...</th>\n",
       "      <th>AGRUPACION_2</th>\n",
       "      <th>AGRUPACION_3</th>\n",
       "      <th>AGRUPACION_4</th>\n",
       "      <th>AGRUPACION_5</th>\n",
       "      <th>AGRUPACION_6</th>\n",
       "      <th>CANTIDAD</th>\n",
       "      <th>UNIDAD_MEDIDA</th>\n",
       "      <th>PRECIO_UNITARIO</th>\n",
       "      <th>PRECIO_TOTAL</th>\n",
       "      <th>bad_char</th>\n",
       "    </tr>\n",
       "  </thead>\n",
       "  <tbody>\n",
       "    <tr>\n",
       "      <th>0</th>\n",
       "      <td>0</td>\n",
       "      <td>c4798d1002b95e5b0f16f09c62c95e06</td>\n",
       "      <td>ec7c2a1bd7b6b3c9d195ed52ae5d7569</td>\n",
       "      <td>6505d3facde2c86923a7339db59a21ec</td>\n",
       "      <td>4</td>\n",
       "      <td>000</td>\n",
       "      <td>010</td>\n",
       "      <td>010</td>\n",
       "      <td>010</td>\n",
       "      <td>0</td>\n",
       "      <td>...</td>\n",
       "      <td>122</td>\n",
       "      <td>253</td>\n",
       "      <td>012</td>\n",
       "      <td>080</td>\n",
       "      <td>001</td>\n",
       "      <td>1.0</td>\n",
       "      <td>2</td>\n",
       "      <td>21.5519</td>\n",
       "      <td>26.08</td>\n",
       "      <td>0</td>\n",
       "    </tr>\n",
       "    <tr>\n",
       "      <th>1</th>\n",
       "      <td>1</td>\n",
       "      <td>c4798d1002b95e5b0f16f09c62c95e06</td>\n",
       "      <td>ec7c2a1bd7b6b3c9d195ed52ae5d7569</td>\n",
       "      <td>6505d3facde2c86923a7339db59a21ec</td>\n",
       "      <td>4</td>\n",
       "      <td>000</td>\n",
       "      <td>010</td>\n",
       "      <td>010</td>\n",
       "      <td>010</td>\n",
       "      <td>0</td>\n",
       "      <td>...</td>\n",
       "      <td>425</td>\n",
       "      <td>700</td>\n",
       "      <td>012</td>\n",
       "      <td>080</td>\n",
       "      <td>001</td>\n",
       "      <td>1.0</td>\n",
       "      <td>2</td>\n",
       "      <td>10.4264</td>\n",
       "      <td>12.62</td>\n",
       "      <td>0</td>\n",
       "    </tr>\n",
       "    <tr>\n",
       "      <th>2</th>\n",
       "      <td>2</td>\n",
       "      <td>75eed0dd5091ba851cb1082f5c600404</td>\n",
       "      <td>5e09c84900842536972d00dc670c3fbc</td>\n",
       "      <td>c1660dedd01d4e5c55d3e9f5d549536d</td>\n",
       "      <td>3</td>\n",
       "      <td>100</td>\n",
       "      <td>100</td>\n",
       "      <td>106</td>\n",
       "      <td>106</td>\n",
       "      <td>3</td>\n",
       "      <td>...</td>\n",
       "      <td>185</td>\n",
       "      <td>220</td>\n",
       "      <td>003</td>\n",
       "      <td>033</td>\n",
       "      <td>001</td>\n",
       "      <td>6.0</td>\n",
       "      <td>2</td>\n",
       "      <td>15.0361</td>\n",
       "      <td>109.16</td>\n",
       "      <td>0</td>\n",
       "    </tr>\n",
       "    <tr>\n",
       "      <th>3</th>\n",
       "      <td>3</td>\n",
       "      <td>75eed0dd5091ba851cb1082f5c600404</td>\n",
       "      <td>5e09c84900842536972d00dc670c3fbc</td>\n",
       "      <td>c1660dedd01d4e5c55d3e9f5d549536d</td>\n",
       "      <td>3</td>\n",
       "      <td>100</td>\n",
       "      <td>100</td>\n",
       "      <td>106</td>\n",
       "      <td>106</td>\n",
       "      <td>3</td>\n",
       "      <td>...</td>\n",
       "      <td>034</td>\n",
       "      <td>101</td>\n",
       "      <td>003</td>\n",
       "      <td>021</td>\n",
       "      <td>001</td>\n",
       "      <td>12.0</td>\n",
       "      <td>2</td>\n",
       "      <td>8.0380</td>\n",
       "      <td>116.72</td>\n",
       "      <td>0</td>\n",
       "    </tr>\n",
       "    <tr>\n",
       "      <th>4</th>\n",
       "      <td>4</td>\n",
       "      <td>d7b59972e86f00e016b54288826786ae</td>\n",
       "      <td>24dc84bc7bc604e81717f2356fbd278b</td>\n",
       "      <td>4334910e09a671816fe006c0d9b9beb8</td>\n",
       "      <td>4</td>\n",
       "      <td>000</td>\n",
       "      <td>010</td>\n",
       "      <td>010</td>\n",
       "      <td>010</td>\n",
       "      <td>0</td>\n",
       "      <td>...</td>\n",
       "      <td>302</td>\n",
       "      <td>402</td>\n",
       "      <td>012</td>\n",
       "      <td>126</td>\n",
       "      <td>001</td>\n",
       "      <td>6.0</td>\n",
       "      <td>2</td>\n",
       "      <td>14.3429</td>\n",
       "      <td>104.13</td>\n",
       "      <td>0</td>\n",
       "    </tr>\n",
       "  </tbody>\n",
       "</table>\n",
       "<p>5 rows × 42 columns</p>\n",
       "</div>"
      ],
      "text/plain": [
       "   indice                    CODIGO_CLIENTE                      RAZON_SOCIAL  \\\n",
       "0       0  c4798d1002b95e5b0f16f09c62c95e06  ec7c2a1bd7b6b3c9d195ed52ae5d7569   \n",
       "1       1  c4798d1002b95e5b0f16f09c62c95e06  ec7c2a1bd7b6b3c9d195ed52ae5d7569   \n",
       "2       2  75eed0dd5091ba851cb1082f5c600404  5e09c84900842536972d00dc670c3fbc   \n",
       "3       3  75eed0dd5091ba851cb1082f5c600404  5e09c84900842536972d00dc670c3fbc   \n",
       "4       4  d7b59972e86f00e016b54288826786ae  24dc84bc7bc604e81717f2356fbd278b   \n",
       "\n",
       "                               CUIT  CATEGORIA_IVA GRUPO_CANAL CANAL SUBCANAL  \\\n",
       "0  6505d3facde2c86923a7339db59a21ec              4         000   010      010   \n",
       "1  6505d3facde2c86923a7339db59a21ec              4         000   010      010   \n",
       "2  c1660dedd01d4e5c55d3e9f5d549536d              3         100   100      106   \n",
       "3  c1660dedd01d4e5c55d3e9f5d549536d              3         100   100      106   \n",
       "4  4334910e09a671816fe006c0d9b9beb8              4         000   010      010   \n",
       "\n",
       "  APERTURA_ADICIONAL  CATEGORIA    ...    AGRUPACION_2 AGRUPACION_3  \\\n",
       "0                010          0    ...             122          253   \n",
       "1                010          0    ...             425          700   \n",
       "2                106          3    ...             185          220   \n",
       "3                106          3    ...             034          101   \n",
       "4                010          0    ...             302          402   \n",
       "\n",
       "  AGRUPACION_4  AGRUPACION_5  AGRUPACION_6 CANTIDAD  UNIDAD_MEDIDA  \\\n",
       "0          012           080           001      1.0              2   \n",
       "1          012           080           001      1.0              2   \n",
       "2          003           033           001      6.0              2   \n",
       "3          003           021           001     12.0              2   \n",
       "4          012           126           001      6.0              2   \n",
       "\n",
       "   PRECIO_UNITARIO PRECIO_TOTAL  bad_char  \n",
       "0          21.5519        26.08         0  \n",
       "1          10.4264        12.62         0  \n",
       "2          15.0361       109.16         0  \n",
       "3           8.0380       116.72         0  \n",
       "4          14.3429       104.13         0  \n",
       "\n",
       "[5 rows x 42 columns]"
      ]
     },
     "execution_count": 24,
     "metadata": {},
     "output_type": "execute_result"
    }
   ],
   "source": [
    "ventas_df.head()"
   ]
  },
  {
   "cell_type": "markdown",
   "metadata": {},
   "source": [
    "#### Verificar la consistencia de las variables Aplicar reglas de integridad\n"
   ]
  },
  {
   "cell_type": "markdown",
   "metadata": {},
   "source": [
    "#### Identificar y documentar valores atípicos/outliers Calcular estadísticos\n",
    "Nuestro trabajo final sobre la materia \"analisis y visualizacion\" se basó en indentificar la fuente de los diferentes tipos de valores atípicos. \n",
    "Principalmente el enfoque principal fue:\n",
    "*  valores atipicos en una sola dimension, producto de un error en la carga de datos, o similar\n",
    "*  valores atípicos en una sola dimension, producto de una desviacion natural, o por pertenecer a otra poblacion\n",
    "*  valores atípicos en varias dimenciones.\n",
    "\n",
    "Los datos al ser facturas de empresas, deberian tener la mayor cantidad de valores atípicos del primer caso y puede ser que algunos del segundo caso.\n",
    "\n",
    "\n",
    "Visualizaremos los outliers en un gráfico de boxplot, ya que rapidamente el diagrama de caja y bigotes nos permiten ver los valores atípicos (puntos) fuera de los bigotes (brazos) del gráfico:"
   ]
  },
  {
   "cell_type": "code",
   "execution_count": 25,
   "metadata": {},
   "outputs": [
    {
     "data": {
      "image/png": "[encoded data removed]",
      "text/plain": [
       "<Figure size 432x288 with 1 Axes>"
      ]
     },
     "metadata": {},
     "output_type": "display_data"
    }
   ],
   "source": [
    "sns.boxplot(ventas_df[\"APERTURA_ADICIONAL\"].astype(np.float));"
   ]
  },
  {
   "cell_type": "code",
   "execution_count": 26,
   "metadata": {},
   "outputs": [
    {
     "data": {
      "image/png": "[encoded data removed]",
      "text/plain": [
       "<Figure size 432x288 with 1 Axes>"
      ]
     },
     "metadata": {},
     "output_type": "display_data"
    }
   ],
   "source": [
    "sns.boxplot(ventas_df[\"FACTURA_MONTO_TOTAL\"].astype(np.float));"
   ]
  },
  {
   "cell_type": "code",
   "execution_count": 27,
   "metadata": {},
   "outputs": [
    {
     "data": {
      "image/png": "[encoded data removed]",
      "text/plain": [
       "<Figure size 432x288 with 1 Axes>"
      ]
     },
     "metadata": {},
     "output_type": "display_data"
    }
   ],
   "source": [
    "sns.boxplot(ventas_df[\"CANTIDAD\"].astype(np.float));"
   ]
  },
  {
   "cell_type": "markdown",
   "metadata": {},
   "source": [
    "#### En esos boxplots podemos advertir que existen puntos muy alejados de la media, y son malos porque \"ensucian\" el dataset. Pueden ser errores en la carga de datos, o datos que pertenecen a otra población, por lo que procederemos a quitarlos. Hay varias tecnicas para quitar outliers, como sacar las que se alejen por mas de tres desviaciones standar. O las que superen un valor dado."
   ]
  },
  {
   "cell_type": "code",
   "execution_count": 34,
   "metadata": {},
   "outputs": [],
   "source": [
    "outliers_cantidad = ventas_df[ventas_df.CANTIDAD > 50000]\n",
    "# ahora los removemos del dataset original\n",
    "ventas_df = ventas_df.drop(outliers_cantidad.index)\n",
    "outliers_monto_total = ventas_df[ventas_df.FACTURA_MONTO_TOTAL > 500000]\n",
    "ventas_df = ventas_df.drop(outliers_monto_total.index)\n"
   ]
  },
  {
   "cell_type": "code",
   "execution_count": 41,
   "metadata": {},
   "outputs": [],
   "source": [
    "outliers_apertura_adicional = ventas_df[ventas_df.APERTURA_ADICIONAL.astype(np.float) > 20]\n",
    "\n",
    "ventas_df = ventas_df.drop(outliers_apertura_adicional.index)"
   ]
  },
  {
   "cell_type": "code",
   "execution_count": 42,
   "metadata": {},
   "outputs": [
    {
     "data": {
      "image/png": "[encoded data removed]",
      "text/plain": [
       "<Figure size 432x288 with 1 Axes>"
      ]
     },
     "metadata": {},
     "output_type": "display_data"
    }
   ],
   "source": [
    "# volvemos a grafical los boxplots\n",
    "sns.boxplot(ventas_df[\"APERTURA_ADICIONAL\"].astype(np.float));"
   ]
  },
  {
   "cell_type": "code",
   "execution_count": 43,
   "metadata": {},
   "outputs": [
    {
     "data": {
      "image/png": "[encoded data removed]",
      "text/plain": [
       "<Figure size 432x288 with 1 Axes>"
      ]
     },
     "metadata": {},
     "output_type": "display_data"
    }
   ],
   "source": [
    "sns.boxplot(ventas_df[\"FACTURA_MONTO_TOTAL\"].astype(np.float));"
   ]
  },
  {
   "cell_type": "code",
   "execution_count": 44,
   "metadata": {},
   "outputs": [
    {
     "data": {
      "image/png": "[encoded data removed]",
      "text/plain": [
       "<Figure size 432x288 with 1 Axes>"
      ]
     },
     "metadata": {},
     "output_type": "display_data"
    }
   ],
   "source": [
    "sns.boxplot(ventas_df[\"CANTIDAD\"].astype(np.float));"
   ]
  },
  {
   "cell_type": "code",
   "execution_count": null,
   "metadata": {},
   "outputs": [],
   "source": []
  },
  {
   "cell_type": "markdown",
   "metadata": {},
   "source": [
    "#### Comprimir los datos y guardar el set de datos con un nombre informativo.\n",
    "Leyendo sobre el funcion de pandas.Dataframe.to_csv, esta cuenta con una función para comprimir el archivo \n",
    "y cuanta con varios metodos de compresion, nosotros elegimos gzip"
   ]
  },
  {
   "cell_type": "code",
   "execution_count": null,
   "metadata": {},
   "outputs": [],
   "source": [
    "pd.DataFrame.to_csv(ventas_df, compression='gzip')"
   ]
  },
  {
   "cell_type": "code",
   "execution_count": null,
   "metadata": {},
   "outputs": [],
   "source": []
  }
 ],
 "metadata": {
  "kernelspec": {
   "display_name": "Python 3",
   "language": "python",
   "name": "python3"
  },
  "language_info": {
   "codemirror_mode": {
    "name": "ipython",
    "version": 3
   },
   "file_extension": ".py",
   "mimetype": "text/x-python",
   "name": "python",
   "nbconvert_exporter": "python",
   "pygments_lexer": "ipython3",
   "version": "3.6.4"
  }
 },
 "nbformat": 4,
 "nbformat_minor": 2
}
