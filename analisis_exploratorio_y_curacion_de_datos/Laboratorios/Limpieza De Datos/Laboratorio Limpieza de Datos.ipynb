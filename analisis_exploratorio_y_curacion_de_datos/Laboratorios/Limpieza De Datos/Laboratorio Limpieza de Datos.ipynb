{
 "cells": [
  {
   "cell_type": "markdown",
   "metadata": {},
   "source": [
    "#### Análisis Exploratorio y Curación de Datos:"
   ]
  },
  {
   "cell_type": "markdown",
   "metadata": {},
   "source": [
    "# Laboratorio: Limpiar un set de datos con pandas"
   ]
  },
  {
   "cell_type": "markdown",
   "metadata": {},
   "source": [
    "<p><em>Consigna:</em></p>\n",
    "<p>Limpiar un set de datos con pandas</p>\n",
    "<ul>\n",
    "<li>Un set de datos que tengan permisos para compartir con nosotros</li>\n",
    "<li>M&aacute;s de 100000 registros</li>\n",
    "<li>M&aacute;s de 20 columnas</li>\n",
    "<li>Con datos con cadenas, n&uacute;meros, fechas, y categor&iacute;as</li>\n",
    "</ul>\n",
    "<p>\n",
    "\n",
    "<ol>\n",
    "    <li>Importando los datos</li>\n",
    "        <ol>\n",
    "            <li> Verificar si no hay problemas en la importación Habilitar chequeos al importar </li>\n",
    "            <li> Asegurar de tener ids/claves únicas Chequear que no hay datos duplicados </li>\n",
    "            <li> Despersonalizar datos y guardarlos en un nuevo archivo</li>\n",
    "            <li> Nunca modificar los datos crudos u originales</li>\n",
    "        </ol>\n",
    "    <li>Pasos necesarios</li>\n",
    "        <ol>\n",
    "            <li>Etiquetas de variables/columnas: no usar caracteres especiales Verificar que no haya problemas de codificación/encoding </li>\n",
    "            <li> Tratar valores faltantes Quitar o imputar</li>\n",
    "            <li> Codificar variables: las variables categóricas deben ser etiquetadas como variables numéricas, no como cadenas</li>\n",
    "            <li> No cambiar los nombres de las variables de la fuente de origen</li>\n",
    "            <li> Verificar la consistencia de las variables\n",
    "Aplicar reglas de integridad</li>\n",
    "            <li> Identificar y documentar valores atípicos/outliers\n",
    "Calcular estadísticos</li>\n",
    "            <li> Evaluar cómo comprimir los datos para su almacenamiento más eficiente</li>\n",
    "            <li> Guardar el set de datos con un nombre informativo.</li>\n",
    "        </ol>\n",
    "    <li> Pasos deseables</li>\n",
    "    <ol>\n",
    "        <li> Ordenar variables/columnas si es posible – primero ID, luego en el mismo orden que la fuente</li>\n",
    "        <li> Quitar variables/columnas que no tienen información a analizar</li>\n",
    "        <li> Renombrar variables de grillas</li>\n",
    "        <li> Categorizar resultados en “Otros”\n",
    "Si tiene un campo de texto libre asociado, codificar en nuevos valores de la variable\n",
    "categórica asociada. Revisar fuzzyness.</li>\n",
    "        <li> Agregar metadata a los datos: cuando y como fueron obtenidos, limpieza realizada,\n",
    "asunciones, etc\n",
    "Vincular con etiquetas del código fuente y los datos. Al menos incluir un README.</li>\n",
    "    <ol>\n",
    "</ol>\n",
    "</p>"
   ]
  },
  {
   "cell_type": "markdown",
   "metadata": {},
   "source": [
    "---"
   ]
  },
  {
   "cell_type": "markdown",
   "metadata": {},
   "source": [
    "# Limpieza de Set de Datos Propio:"
   ]
  },
  {
   "cell_type": "code",
   "execution_count": 1,
   "metadata": {},
   "outputs": [],
   "source": [
    "# Inicialmente cargamos las librerías a utilizar:\n",
    "import os.path as path\n",
    "import zipfile\n",
    "import pandas as pd\n",
    "import numpy as np\n",
    "import seaborn\n",
    "import seaborn as sns\n",
    "import matplotlib.pyplot as plt\n",
    "from IPython.display import display, HTML\n",
    "from pylab import rcParams\n",
    "rcParams['figure.figsize'] = 18, 10"
   ]
  },
  {
   "cell_type": "markdown",
   "metadata": {},
   "source": [
    "# Importamos los datos:"
   ]
  },
  {
   "cell_type": "code",
   "execution_count": 2,
   "metadata": {},
   "outputs": [
    {
     "name": "stdout",
     "output_type": "stream",
     "text": [
      "El dataset existe. Continuamos.\n"
     ]
    }
   ],
   "source": [
    "# Nota: El dataset se encuentra comprimido por un tema de volumen. \n",
    "# Esta rutina chequea su existencia y lo extrae en caso de no existir. \n",
    "dataset_filename = '../datos/datos-anonimizados-clientes.csv'\n",
    "\n",
    "if path.isfile(dataset_filename) == False:\n",
    "    zip = zipfile.ZipFile('../datos/datos-anonimizados-clientes.zip')\n",
    "    zip.extractall('../datos/')\n",
    "    print('Dataset extraido. Continuamos.')\n",
    "else:\n",
    "    print('El dataset existe. Continuamos.')\n"
   ]
  },
  {
   "cell_type": "code",
   "execution_count": 13,
   "metadata": {},
   "outputs": [
    {
     "name": "stderr",
     "output_type": "stream",
     "text": [
      "/Users/facundo/anaconda3/lib/python3.6/site-packages/IPython/core/interactiveshell.py:2728: DtypeWarning: Columns (12,15,28) have mixed types. Specify dtype option on import or set low_memory=False.\n",
      "  interactivity=interactivity, compiler=compiler, result=result)\n"
     ]
    }
   ],
   "source": [
    "# No especificamos columna indice, porque no tenemos una columna con datos unicos\n",
    "ventas_df = pd.read_csv(dataset_filename)"
   ]
  },
  {
   "cell_type": "markdown",
   "metadata": {},
   "source": [
    "Para salvar el warning, definiremos los tipos de datos de cada columna:"
   ]
  },
  {
   "cell_type": "code",
   "execution_count": 14,
   "metadata": {},
   "outputs": [],
   "source": [
    "ventas_df_dtype={'CODIGO_CLIENTE': object,\n",
    " 'RAZON_SOCIAL':  object,\n",
    " 'CUIT': object,\n",
    " 'CATEGORIA_IVA': object,\n",
    " 'GRUPO_CANAL': object,\n",
    " 'CANAL': object,\n",
    " 'SUBCANAL': object,\n",
    " 'APERTURA_ADICIONAL': object,\n",
    " 'CATEGORIA': object,\n",
    " 'ZONA': object,\n",
    " 'ZONA_REPARTO': object,\n",
    " 'CONDICION_VENTA': object,\n",
    " 'CREDITO_MAXIMO': np.dtype('f'),\n",
    " 'CREDITO_MONEDA': object,\n",
    " 'LISTA_PRECIOS': object,\n",
    " 'AGENTE_RETENCION': np.dtype('?'),\n",
    " 'DIAS_TOLERANCIA_COBRO': np.dtype('i'),\n",
    " 'GRUPO': object,\n",
    " 'SOCIEDAD_JURIDICA': object,\n",
    " 'ESTADO': object,\n",
    " 'MOTIVO_ESTADO': object,\n",
    " 'ESQUEMA_COMERCIAL': object,\n",
    " 'DIRECCION_CALLE': object,\n",
    " 'DIRECCION_NUMERO': object,\n",
    " 'CODIGO_POSTAL': object,\n",
    " 'LATITUD': np.dtype('f'),\n",
    " 'LONGITUD': np.dtype('f') ,\n",
    " 'DIRECCION_PRINCIPAL': object,\n",
    " 'FACTURA_CODIGO': object,\n",
    " 'FACTURA_NUMERO': np.dtype('i'),\n",
    " 'FACTURA_SUCURSAL': np.dtype('i'),\n",
    " 'FACTURA_FECHA': object,\n",
    " 'FACTURA_MONTO_TOTAL': np.dtype('f'),\n",
    " 'FACTURA_COND_VENTA': object,\n",
    " 'FACTURA_VENDEDOR': object,\n",
    " 'CODIGO_ARTICULO': object,\n",
    " 'DESCRIPCION': object,\n",
    " 'AGRUPACION_1': object,\n",
    " 'AGRUPACION_2': object,\n",
    " 'AGRUPACION_3': object,\n",
    " 'AGRUPACION_4': object,\n",
    " 'AGRUPACION_5': object,\n",
    " 'AGRUPACION_6': object,\n",
    " 'CANTIDAD': np.dtype('d'),\n",
    " 'UNIDAD_MEDIDA': object,\n",
    " 'PRECIO_UNITARIO': np.dtype('d'),\n",
    " 'PRECIO_TOTAL' : np.dtype('d')}\n"
   ]
  },
  {
   "cell_type": "code",
   "execution_count": 15,
   "metadata": {},
   "outputs": [],
   "source": [
    "ventas_df = pd.read_csv(\"../datos/datos-anonimizados-clientes.csv\",\n",
    "                        dtype=ventas_df_dtype)"
   ]
  },
  {
   "cell_type": "code",
   "execution_count": 16,
   "metadata": {},
   "outputs": [
    {
     "data": {
      "text/plain": [
       "Unnamed: 0                 int64\n",
       "CODIGO_CLIENTE            object\n",
       "RAZON_SOCIAL              object\n",
       "CUIT                      object\n",
       "CATEGORIA_IVA             object\n",
       "GRUPO_CANAL               object\n",
       "CANAL                     object\n",
       "SUBCANAL                  object\n",
       "APERTURA_ADICIONAL        object\n",
       "CATEGORIA                 object\n",
       "ZONA                      object\n",
       "ZONA_REPARTO              object\n",
       "CONDICION_VENTA           object\n",
       "CREDITO_MAXIMO           float32\n",
       "CREDITO_MONEDA            object\n",
       "LISTA_PRECIOS             object\n",
       "AGENTE_RETENCION            bool\n",
       "DIAS_TOLERANCIA_COBRO      int32\n",
       "GRUPO                     object\n",
       "SOCIEDAD_JURIDICA         object\n",
       "ESTADO                    object\n",
       "MOTIVO_ESTADO             object\n",
       "ESQUEMA_COMERCIAL         object\n",
       "FACTURA_CODIGO            object\n",
       "FACTURA_NUM_ID            object\n",
       "FACTURA_SUCURSAL           int32\n",
       "FACTURA_FECHA             object\n",
       "FACTURA_MONTO_TOTAL      float32\n",
       "FACTURA_COND_VENTA        object\n",
       "FACTURA_VENDEDOR          object\n",
       "CODIGO_ARTICULO           object\n",
       "AGRUPACION_1              object\n",
       "AGRUPACION_2              object\n",
       "AGRUPACION_3              object\n",
       "AGRUPACION_4              object\n",
       "AGRUPACION_5              object\n",
       "AGRUPACION_6              object\n",
       "CANTIDAD                 float64\n",
       "UNIDAD_MEDIDA             object\n",
       "PRECIO_UNITARIO          float64\n",
       "PRECIO_TOTAL             float64\n",
       "dtype: object"
      ]
     },
     "execution_count": 16,
     "metadata": {},
     "output_type": "execute_result"
    }
   ],
   "source": [
    "ventas_df.dtypes"
   ]
  },
  {
   "cell_type": "markdown",
   "metadata": {},
   "source": [
    "Obtenemos el tamaño del dataframe en filas y columnas:"
   ]
  },
  {
   "cell_type": "code",
   "execution_count": 17,
   "metadata": {},
   "outputs": [
    {
     "data": {
      "text/html": [
       "<H3>NOTA: El set de datos posee 1,677,680 filas por 41 columnas, lo cual lo hace adecuado para el ejercicio.</h3>"
      ],
      "text/plain": [
       "<IPython.core.display.HTML object>"
      ]
     },
     "metadata": {},
     "output_type": "display_data"
    }
   ],
   "source": [
    "display(HTML('<H3>NOTA: El set de datos posee {0:,.0f} filas por {1} columnas, lo cual lo hace adecuado para el ejercicio.</h3>'.format(len(ventas_df),len(ventas_df.columns))))"
   ]
  },
  {
   "cell_type": "markdown",
   "metadata": {},
   "source": [
    "---"
   ]
  },
  {
   "cell_type": "markdown",
   "metadata": {},
   "source": [
    "## Visualizamos el Dataframe:"
   ]
  },
  {
   "cell_type": "code",
   "execution_count": 18,
   "metadata": {},
   "outputs": [
    {
     "data": {
      "text/html": [
       "<div>\n",
       "<style scoped>\n",
       "    .dataframe tbody tr th:only-of-type {\n",
       "        vertical-align: middle;\n",
       "    }\n",
       "\n",
       "    .dataframe tbody tr th {\n",
       "        vertical-align: top;\n",
       "    }\n",
       "\n",
       "    .dataframe thead th {\n",
       "        text-align: right;\n",
       "    }\n",
       "</style>\n",
       "<table border=\"1\" class=\"dataframe\">\n",
       "  <thead>\n",
       "    <tr style=\"text-align: right;\">\n",
       "      <th></th>\n",
       "      <th>Unnamed: 0</th>\n",
       "      <th>CODIGO_CLIENTE</th>\n",
       "      <th>RAZON_SOCIAL</th>\n",
       "      <th>CUIT</th>\n",
       "      <th>CATEGORIA_IVA</th>\n",
       "      <th>GRUPO_CANAL</th>\n",
       "      <th>CANAL</th>\n",
       "      <th>SUBCANAL</th>\n",
       "      <th>APERTURA_ADICIONAL</th>\n",
       "      <th>CATEGORIA</th>\n",
       "      <th>...</th>\n",
       "      <th>AGRUPACION_1</th>\n",
       "      <th>AGRUPACION_2</th>\n",
       "      <th>AGRUPACION_3</th>\n",
       "      <th>AGRUPACION_4</th>\n",
       "      <th>AGRUPACION_5</th>\n",
       "      <th>AGRUPACION_6</th>\n",
       "      <th>CANTIDAD</th>\n",
       "      <th>UNIDAD_MEDIDA</th>\n",
       "      <th>PRECIO_UNITARIO</th>\n",
       "      <th>PRECIO_TOTAL</th>\n",
       "    </tr>\n",
       "  </thead>\n",
       "  <tbody>\n",
       "    <tr>\n",
       "      <th>0</th>\n",
       "      <td>0</td>\n",
       "      <td>c4798d1002b95e5b0f16f09c62c95e06</td>\n",
       "      <td>ec7c2a1bd7b6b3c9d195ed52ae5d7569</td>\n",
       "      <td>6505d3facde2c86923a7339db59a21ec</td>\n",
       "      <td>RM</td>\n",
       "      <td>000</td>\n",
       "      <td>010</td>\n",
       "      <td>010</td>\n",
       "      <td>010</td>\n",
       "      <td>A</td>\n",
       "      <td>...</td>\n",
       "      <td>012</td>\n",
       "      <td>122</td>\n",
       "      <td>253</td>\n",
       "      <td>012</td>\n",
       "      <td>080</td>\n",
       "      <td>001</td>\n",
       "      <td>1.0</td>\n",
       "      <td>UN</td>\n",
       "      <td>21.5519</td>\n",
       "      <td>26.08</td>\n",
       "    </tr>\n",
       "    <tr>\n",
       "      <th>1</th>\n",
       "      <td>1</td>\n",
       "      <td>c4798d1002b95e5b0f16f09c62c95e06</td>\n",
       "      <td>ec7c2a1bd7b6b3c9d195ed52ae5d7569</td>\n",
       "      <td>6505d3facde2c86923a7339db59a21ec</td>\n",
       "      <td>RM</td>\n",
       "      <td>000</td>\n",
       "      <td>010</td>\n",
       "      <td>010</td>\n",
       "      <td>010</td>\n",
       "      <td>A</td>\n",
       "      <td>...</td>\n",
       "      <td>012</td>\n",
       "      <td>425</td>\n",
       "      <td>700</td>\n",
       "      <td>012</td>\n",
       "      <td>080</td>\n",
       "      <td>001</td>\n",
       "      <td>1.0</td>\n",
       "      <td>UN</td>\n",
       "      <td>10.4264</td>\n",
       "      <td>12.62</td>\n",
       "    </tr>\n",
       "    <tr>\n",
       "      <th>2</th>\n",
       "      <td>2</td>\n",
       "      <td>75eed0dd5091ba851cb1082f5c600404</td>\n",
       "      <td>5e09c84900842536972d00dc670c3fbc</td>\n",
       "      <td>c1660dedd01d4e5c55d3e9f5d549536d</td>\n",
       "      <td>RI</td>\n",
       "      <td>100</td>\n",
       "      <td>100</td>\n",
       "      <td>106</td>\n",
       "      <td>106</td>\n",
       "      <td>C</td>\n",
       "      <td>...</td>\n",
       "      <td>003</td>\n",
       "      <td>185</td>\n",
       "      <td>220</td>\n",
       "      <td>003</td>\n",
       "      <td>033</td>\n",
       "      <td>001</td>\n",
       "      <td>6.0</td>\n",
       "      <td>UN</td>\n",
       "      <td>15.0361</td>\n",
       "      <td>109.16</td>\n",
       "    </tr>\n",
       "    <tr>\n",
       "      <th>3</th>\n",
       "      <td>3</td>\n",
       "      <td>75eed0dd5091ba851cb1082f5c600404</td>\n",
       "      <td>5e09c84900842536972d00dc670c3fbc</td>\n",
       "      <td>c1660dedd01d4e5c55d3e9f5d549536d</td>\n",
       "      <td>RI</td>\n",
       "      <td>100</td>\n",
       "      <td>100</td>\n",
       "      <td>106</td>\n",
       "      <td>106</td>\n",
       "      <td>C</td>\n",
       "      <td>...</td>\n",
       "      <td>091</td>\n",
       "      <td>034</td>\n",
       "      <td>101</td>\n",
       "      <td>003</td>\n",
       "      <td>021</td>\n",
       "      <td>001</td>\n",
       "      <td>12.0</td>\n",
       "      <td>UN</td>\n",
       "      <td>8.0380</td>\n",
       "      <td>116.72</td>\n",
       "    </tr>\n",
       "    <tr>\n",
       "      <th>4</th>\n",
       "      <td>4</td>\n",
       "      <td>d7b59972e86f00e016b54288826786ae</td>\n",
       "      <td>24dc84bc7bc604e81717f2356fbd278b</td>\n",
       "      <td>4334910e09a671816fe006c0d9b9beb8</td>\n",
       "      <td>RM</td>\n",
       "      <td>000</td>\n",
       "      <td>010</td>\n",
       "      <td>010</td>\n",
       "      <td>010</td>\n",
       "      <td>A</td>\n",
       "      <td>...</td>\n",
       "      <td>012</td>\n",
       "      <td>302</td>\n",
       "      <td>402</td>\n",
       "      <td>012</td>\n",
       "      <td>126</td>\n",
       "      <td>001</td>\n",
       "      <td>6.0</td>\n",
       "      <td>UN</td>\n",
       "      <td>14.3429</td>\n",
       "      <td>104.13</td>\n",
       "    </tr>\n",
       "  </tbody>\n",
       "</table>\n",
       "<p>5 rows × 41 columns</p>\n",
       "</div>"
      ],
      "text/plain": [
       "   Unnamed: 0                    CODIGO_CLIENTE  \\\n",
       "0           0  c4798d1002b95e5b0f16f09c62c95e06   \n",
       "1           1  c4798d1002b95e5b0f16f09c62c95e06   \n",
       "2           2  75eed0dd5091ba851cb1082f5c600404   \n",
       "3           3  75eed0dd5091ba851cb1082f5c600404   \n",
       "4           4  d7b59972e86f00e016b54288826786ae   \n",
       "\n",
       "                       RAZON_SOCIAL                              CUIT  \\\n",
       "0  ec7c2a1bd7b6b3c9d195ed52ae5d7569  6505d3facde2c86923a7339db59a21ec   \n",
       "1  ec7c2a1bd7b6b3c9d195ed52ae5d7569  6505d3facde2c86923a7339db59a21ec   \n",
       "2  5e09c84900842536972d00dc670c3fbc  c1660dedd01d4e5c55d3e9f5d549536d   \n",
       "3  5e09c84900842536972d00dc670c3fbc  c1660dedd01d4e5c55d3e9f5d549536d   \n",
       "4  24dc84bc7bc604e81717f2356fbd278b  4334910e09a671816fe006c0d9b9beb8   \n",
       "\n",
       "  CATEGORIA_IVA GRUPO_CANAL CANAL SUBCANAL APERTURA_ADICIONAL CATEGORIA  \\\n",
       "0            RM         000   010      010                010       A     \n",
       "1            RM         000   010      010                010       A     \n",
       "2            RI         100   100      106                106       C     \n",
       "3            RI         100   100      106                106       C     \n",
       "4            RM         000   010      010                010       A     \n",
       "\n",
       "      ...      AGRUPACION_1 AGRUPACION_2 AGRUPACION_3  AGRUPACION_4  \\\n",
       "0     ...               012          122          253           012   \n",
       "1     ...               012          425          700           012   \n",
       "2     ...               003          185          220           003   \n",
       "3     ...               091          034          101           003   \n",
       "4     ...               012          302          402           012   \n",
       "\n",
       "  AGRUPACION_5 AGRUPACION_6  CANTIDAD  UNIDAD_MEDIDA PRECIO_UNITARIO  \\\n",
       "0          080          001       1.0          UN            21.5519   \n",
       "1          080          001       1.0          UN            10.4264   \n",
       "2          033          001       6.0          UN            15.0361   \n",
       "3          021          001      12.0          UN             8.0380   \n",
       "4          126          001       6.0          UN            14.3429   \n",
       "\n",
       "  PRECIO_TOTAL  \n",
       "0        26.08  \n",
       "1        12.62  \n",
       "2       109.16  \n",
       "3       116.72  \n",
       "4       104.13  \n",
       "\n",
       "[5 rows x 41 columns]"
      ]
     },
     "execution_count": 18,
     "metadata": {},
     "output_type": "execute_result"
    }
   ],
   "source": [
    "ventas_df[:5]"
   ]
  },
  {
   "cell_type": "code",
   "execution_count": 24,
   "metadata": {},
   "outputs": [
    {
     "name": "stdout",
     "output_type": "stream",
     "text": [
      "CODIGO_CLIENTE Not unique\n",
      "indice Unique\n"
     ]
    }
   ],
   "source": [
    "# El codigo cliente no es único, usamos la columna indice para identificarla univocamente\n",
    "if ventas_df['CODIGO_CLIENTE'].size == ventas_df['CODIGO_CLIENTE'].unique().size:\n",
    "    print(\"CODIGO_CLIENTE Unique\")\n",
    "else:\n",
    "    print(\"CODIGO_CLIENTE Not unique\")\n",
    "ventas_df.rename(columns={'Unnamed: 0':'indice'}, inplace=True)\n",
    "if ventas_df['indice'].size == ventas_df['indice'].unique().size:\n",
    "    print(\"indice Unique\")\n",
    "else:\n",
    "    print(\"indice Not unique\")"
   ]
  },
  {
   "cell_type": "code",
   "execution_count": 21,
   "metadata": {},
   "outputs": [
    {
     "name": "stdout",
     "output_type": "stream",
     "text": [
      "1677680\n",
      "1677680\n"
     ]
    }
   ],
   "source": [
    "# Eliminamos filas repetidas\n",
    "ventas_df = ventas_df.drop_duplicates()\n",
    "print(len(ventas_df))\n",
    "# No tenemos filas repetidas!"
   ]
  },
  {
   "cell_type": "code",
   "execution_count": 23,
   "metadata": {},
   "outputs": [
    {
     "data": {
      "text/html": [
       "<div>\n",
       "<style scoped>\n",
       "    .dataframe tbody tr th:only-of-type {\n",
       "        vertical-align: middle;\n",
       "    }\n",
       "\n",
       "    .dataframe tbody tr th {\n",
       "        vertical-align: top;\n",
       "    }\n",
       "\n",
       "    .dataframe thead th {\n",
       "        text-align: right;\n",
       "    }\n",
       "</style>\n",
       "<table border=\"1\" class=\"dataframe\">\n",
       "  <thead>\n",
       "    <tr style=\"text-align: right;\">\n",
       "      <th></th>\n",
       "      <th>indice</th>\n",
       "      <th>CODIGO_CLIENTE</th>\n",
       "      <th>RAZON_SOCIAL</th>\n",
       "      <th>CUIT</th>\n",
       "      <th>CATEGORIA_IVA</th>\n",
       "      <th>GRUPO_CANAL</th>\n",
       "      <th>CANAL</th>\n",
       "      <th>SUBCANAL</th>\n",
       "      <th>APERTURA_ADICIONAL</th>\n",
       "      <th>CATEGORIA</th>\n",
       "      <th>...</th>\n",
       "      <th>AGRUPACION_1</th>\n",
       "      <th>AGRUPACION_2</th>\n",
       "      <th>AGRUPACION_3</th>\n",
       "      <th>AGRUPACION_4</th>\n",
       "      <th>AGRUPACION_5</th>\n",
       "      <th>AGRUPACION_6</th>\n",
       "      <th>CANTIDAD</th>\n",
       "      <th>UNIDAD_MEDIDA</th>\n",
       "      <th>PRECIO_UNITARIO</th>\n",
       "      <th>PRECIO_TOTAL</th>\n",
       "    </tr>\n",
       "  </thead>\n",
       "  <tbody>\n",
       "    <tr>\n",
       "      <th>0</th>\n",
       "      <td>0</td>\n",
       "      <td>c4798d1002b95e5b0f16f09c62c95e06</td>\n",
       "      <td>ec7c2a1bd7b6b3c9d195ed52ae5d7569</td>\n",
       "      <td>6505d3facde2c86923a7339db59a21ec</td>\n",
       "      <td>RM</td>\n",
       "      <td>000</td>\n",
       "      <td>010</td>\n",
       "      <td>010</td>\n",
       "      <td>010</td>\n",
       "      <td>A</td>\n",
       "      <td>...</td>\n",
       "      <td>012</td>\n",
       "      <td>122</td>\n",
       "      <td>253</td>\n",
       "      <td>012</td>\n",
       "      <td>080</td>\n",
       "      <td>001</td>\n",
       "      <td>1.0</td>\n",
       "      <td>UN</td>\n",
       "      <td>21.5519</td>\n",
       "      <td>26.08</td>\n",
       "    </tr>\n",
       "  </tbody>\n",
       "</table>\n",
       "<p>1 rows × 41 columns</p>\n",
       "</div>"
      ],
      "text/plain": [
       "   indice                    CODIGO_CLIENTE                      RAZON_SOCIAL  \\\n",
       "0       0  c4798d1002b95e5b0f16f09c62c95e06  ec7c2a1bd7b6b3c9d195ed52ae5d7569   \n",
       "\n",
       "                               CUIT CATEGORIA_IVA GRUPO_CANAL CANAL SUBCANAL  \\\n",
       "0  6505d3facde2c86923a7339db59a21ec            RM         000   010      010   \n",
       "\n",
       "  APERTURA_ADICIONAL CATEGORIA     ...      AGRUPACION_1 AGRUPACION_2  \\\n",
       "0                010       A       ...               012          122   \n",
       "\n",
       "  AGRUPACION_3  AGRUPACION_4 AGRUPACION_5 AGRUPACION_6  CANTIDAD  \\\n",
       "0          253           012          080          001       1.0   \n",
       "\n",
       "   UNIDAD_MEDIDA PRECIO_UNITARIO PRECIO_TOTAL  \n",
       "0          UN            21.5519        26.08  \n",
       "\n",
       "[1 rows x 41 columns]"
      ]
     },
     "execution_count": 23,
     "metadata": {},
     "output_type": "execute_result"
    }
   ],
   "source": [
    "ventas_df[:1]"
   ]
  },
  {
   "cell_type": "markdown",
   "metadata": {},
   "source": [
    "# Pasos necesarios:"
   ]
  },
  {
   "cell_type": "markdown",
   "metadata": {},
   "source": [
    "#### Verificar Nombres de Columnas. \n",
    "Los nombres de las columnas fueorn verificados al espeficar el typo de datos"
   ]
  },
  {
   "cell_type": "code",
   "execution_count": null,
   "metadata": {},
   "outputs": [],
   "source": []
  },
  {
   "cell_type": "markdown",
   "metadata": {},
   "source": [
    "#### Tratar valores faltantes\n"
   ]
  },
  {
   "cell_type": "markdown",
   "metadata": {},
   "source": [
    "#### Codificar variables\n"
   ]
  },
  {
   "cell_type": "markdown",
   "metadata": {},
   "source": [
    "#### Verificar la consistencia de las variables Aplicar reglas de integridad\n"
   ]
  },
  {
   "cell_type": "markdown",
   "metadata": {},
   "source": [
    "#### Identificar y documentar valores atípicos/outliers Calcular estadísticos\n"
   ]
  },
  {
   "cell_type": "markdown",
   "metadata": {},
   "source": [
    "#### Comprimir los datos y guardar el set de datos con un nombre informativo.\n",
    "Leyendo sobre el funcion de pandas.Dataframe.to_csv, esta cuenta con una función para comprimir el archivo \n",
    "y cuanta con varios metodos de compresion, nosotros elegimos gzip"
   ]
  },
  {
   "cell_type": "code",
   "execution_count": 38,
   "metadata": {},
   "outputs": [
    {
     "ename": "TypeError",
     "evalue": "expected str, bytes or os.PathLike object, not _io.StringIO",
     "output_type": "error",
     "traceback": [
      "\u001b[0;31m---------------------------------------------------------------------------\u001b[0m",
      "\u001b[0;31mTypeError\u001b[0m                                 Traceback (most recent call last)",
      "\u001b[0;32m<ipython-input-38-606ba4a7afb8>\u001b[0m in \u001b[0;36m<module>\u001b[0;34m()\u001b[0m\n\u001b[0;32m----> 1\u001b[0;31m \u001b[0mpd\u001b[0m\u001b[0;34m.\u001b[0m\u001b[0mDataFrame\u001b[0m\u001b[0;34m.\u001b[0m\u001b[0mto_csv\u001b[0m\u001b[0;34m(\u001b[0m\u001b[0mventas_df\u001b[0m\u001b[0;34m,\u001b[0m \u001b[0mcompression\u001b[0m\u001b[0;34m=\u001b[0m\u001b[0;34m'gzip'\u001b[0m\u001b[0;34m)\u001b[0m\u001b[0;34m\u001b[0m\u001b[0m\n\u001b[0m",
      "\u001b[0;32m~/anaconda3/lib/python3.6/site-packages/pandas/core/frame.py\u001b[0m in \u001b[0;36mto_csv\u001b[0;34m(self, path_or_buf, sep, na_rep, float_format, columns, header, index, index_label, mode, encoding, compression, quoting, quotechar, line_terminator, chunksize, tupleize_cols, date_format, doublequote, escapechar, decimal)\u001b[0m\n\u001b[1;32m   1743\u001b[0m                                  \u001b[0mdoublequote\u001b[0m\u001b[0;34m=\u001b[0m\u001b[0mdoublequote\u001b[0m\u001b[0;34m,\u001b[0m\u001b[0;34m\u001b[0m\u001b[0m\n\u001b[1;32m   1744\u001b[0m                                  escapechar=escapechar, decimal=decimal)\n\u001b[0;32m-> 1745\u001b[0;31m         \u001b[0mformatter\u001b[0m\u001b[0;34m.\u001b[0m\u001b[0msave\u001b[0m\u001b[0;34m(\u001b[0m\u001b[0;34m)\u001b[0m\u001b[0;34m\u001b[0m\u001b[0m\n\u001b[0m\u001b[1;32m   1746\u001b[0m \u001b[0;34m\u001b[0m\u001b[0m\n\u001b[1;32m   1747\u001b[0m         \u001b[0;32mif\u001b[0m \u001b[0mpath_or_buf\u001b[0m \u001b[0;32mis\u001b[0m \u001b[0;32mNone\u001b[0m\u001b[0;34m:\u001b[0m\u001b[0;34m\u001b[0m\u001b[0m\n",
      "\u001b[0;32m~/anaconda3/lib/python3.6/site-packages/pandas/io/formats/csvs.py\u001b[0m in \u001b[0;36msave\u001b[0;34m(self)\u001b[0m\n\u001b[1;32m    155\u001b[0m             \u001b[0;32mif\u001b[0m \u001b[0;32mnot\u001b[0m \u001b[0mclose\u001b[0m \u001b[0;32mand\u001b[0m \u001b[0mself\u001b[0m\u001b[0;34m.\u001b[0m\u001b[0mcompression\u001b[0m\u001b[0;34m:\u001b[0m\u001b[0;34m\u001b[0m\u001b[0m\n\u001b[1;32m    156\u001b[0m                 \u001b[0mf\u001b[0m\u001b[0;34m.\u001b[0m\u001b[0mclose\u001b[0m\u001b[0;34m(\u001b[0m\u001b[0;34m)\u001b[0m\u001b[0;34m\u001b[0m\u001b[0m\n\u001b[0;32m--> 157\u001b[0;31m                 \u001b[0;32mwith\u001b[0m \u001b[0mopen\u001b[0m\u001b[0;34m(\u001b[0m\u001b[0mself\u001b[0m\u001b[0;34m.\u001b[0m\u001b[0mpath_or_buf\u001b[0m\u001b[0;34m,\u001b[0m \u001b[0;34m'r'\u001b[0m\u001b[0;34m)\u001b[0m \u001b[0;32mas\u001b[0m \u001b[0mf\u001b[0m\u001b[0;34m:\u001b[0m\u001b[0;34m\u001b[0m\u001b[0m\n\u001b[0m\u001b[1;32m    158\u001b[0m                     \u001b[0mdata\u001b[0m \u001b[0;34m=\u001b[0m \u001b[0mf\u001b[0m\u001b[0;34m.\u001b[0m\u001b[0mread\u001b[0m\u001b[0;34m(\u001b[0m\u001b[0;34m)\u001b[0m\u001b[0;34m\u001b[0m\u001b[0m\n\u001b[1;32m    159\u001b[0m                 f, handles = _get_handle(self.path_or_buf, self.mode,\n",
      "\u001b[0;31mTypeError\u001b[0m: expected str, bytes or os.PathLike object, not _io.StringIO"
     ]
    }
   ],
   "source": [
    "pd.DataFrame.to_csv(ventas_df, compression='gzip')"
   ]
  },
  {
   "cell_type": "code",
   "execution_count": null,
   "metadata": {},
   "outputs": [],
   "source": []
  }
 ],
 "metadata": {
  "kernelspec": {
   "display_name": "Python 3",
   "language": "python",
   "name": "python3"
  },
  "language_info": {
   "codemirror_mode": {
    "name": "ipython",
    "version": 3
   },
   "file_extension": ".py",
   "mimetype": "text/x-python",
   "name": "python",
   "nbconvert_exporter": "python",
   "pygments_lexer": "ipython3",
   "version": "3.6.4"
  }
 },
 "nbformat": 4,
 "nbformat_minor": 2
}
