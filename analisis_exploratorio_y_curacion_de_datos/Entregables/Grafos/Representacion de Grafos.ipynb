{
 "cells": [
  {
   "cell_type": "markdown",
   "metadata": {},
   "source": [
    "### Representar el siguiente grafo como matriz de adyacencia y lista de adyacencia.\n",
    "\n",
    "edgeList = [ [0, 2], [1, 3], [2, 3], [2, 4], [3, 5], [4, 5] ];\n",
    "![grafo](./grafo.png)"
   ]
  },
  {
   "cell_type": "markdown",
   "metadata": {},
   "source": []
  },
  {
   "cell_type": "code",
   "execution_count": 89,
   "metadata": {},
   "outputs": [
    {
     "data": {
      "text/plain": [
       "array([[0, 0, 1, 0, 0, 0],\n",
       "       [0, 0, 0, 1, 0, 0],\n",
       "       [0, 0, 0, 1, 1, 0],\n",
       "       [0, 0, 0, 0, 0, 1],\n",
       "       [0, 0, 0, 0, 0, 1],\n",
       "       [0, 0, 0, 0, 0, 0]])"
      ]
     },
     "execution_count": 89,
     "metadata": {},
     "output_type": "execute_result"
    }
   ],
   "source": [
    "import numpy as np\n",
    "edgeList = [ [0, 2], [1, 3], [2, 3], [2, 4], [3, 5], [4, 5] ];\n",
    "nodos = set()\n",
    "\n",
    "for rel in edgeList:\n",
    "    nodo = rel\n",
    "    nodos.add(nodo[0])\n",
    "    nodos.add(nodo[1])\n",
    "\n",
    "adjmatrix = np.zeros((len(nodos), len(nodos)),dtype=int)\n",
    "\n",
    "for rel in edgeList:\n",
    "    nodo = rel\n",
    "    adjmatrix[nodo[0], nodo[1]] = 1\n",
    "    \n",
    "adjmatrix\n"
   ]
  },
  {
   "cell_type": "code",
   "execution_count": 90,
   "metadata": {},
   "outputs": [
    {
     "name": "stdout",
     "output_type": "stream",
     "text": [
      "Lista de adyacencia:\n"
     ]
    },
    {
     "data": {
      "text/plain": [
       "[[2], [3], [3, 4], [5], [5], []]"
      ]
     },
     "execution_count": 90,
     "metadata": {},
     "output_type": "execute_result"
    }
   ],
   "source": [
    "adjlist = [[]] * len(nodos)\n",
    "\n",
    "\n",
    "\n",
    "for i in range(len(edgeList)):\n",
    "    adjlist[i] = []\n",
    "\n",
    "    \n",
    "for rel in edgeList:\n",
    "    nodo = rel\n",
    "    indice = nodo[0]\n",
    "    valor = nodo[1]\n",
    "    adjlist[indice].append(valor)\n",
    "\n",
    "print(\"Lista de adyacencia:\")\n",
    "adjlist\n",
    "\n"
   ]
  },
  {
   "cell_type": "code",
   "execution_count": null,
   "metadata": {},
   "outputs": [],
   "source": []
  }
 ],
 "metadata": {
  "kernelspec": {
   "display_name": "Python 3",
   "language": "python",
   "name": "python3"
  },
  "language_info": {
   "codemirror_mode": {
    "name": "ipython",
    "version": 3
   },
   "file_extension": ".py",
   "mimetype": "text/x-python",
   "name": "python",
   "nbconvert_exporter": "python",
   "pygments_lexer": "ipython3",
   "version": "3.6.4"
  }
 },
 "nbformat": 4,
 "nbformat_minor": 2
}
