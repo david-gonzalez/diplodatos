{
 "cells": [
  {
   "cell_type": "markdown",
   "metadata": {},
   "source": [
    "<center>\n",
    "<h4>Diplomatura AACSyA 2018 - FaMAF - UNC</h4>\n",
    "<h3>Aprendizaje Supervisado</h3>\n",
    "<hr>\n",
    "<h4>Por David Gonzalez <leonardo.david.gonzalez@gmail.com> y Facundo Díaz Cobos <facundo.diaz.cobos@gmail.com></h4>\n",
    "</center>\n",
    "<br/>"
   ]
  },
  {
   "cell_type": "markdown",
   "metadata": {},
   "source": [
    "# Aprendizaje Supervisado: Laboratorio 2 - Iteracion 6\n",
    "\n"
   ]
  },
  {
   "cell_type": "markdown",
   "metadata": {},
   "source": [
    "Movies Reviews Sentiment Analysis\n",
    "\n",
    "    Trabajo final de laboratorio de la materia Aprendizaje Supervisado (Matías Marenchino, Franco M. Luque)\n",
    "    Diplomatura en Ciencias de Datos, Aprendizaje Automático y sus Aplicaciones http://diplodatos.famaf.unc.edu.ar/\n"
   ]
  },
  {
   "cell_type": "code",
   "execution_count": 1,
   "metadata": {},
   "outputs": [
    {
     "data": {
      "application/javascript": [
       "IPython.OutputArea.auto_scroll_threshold = 9999;"
      ],
      "text/plain": [
       "<IPython.core.display.Javascript object>"
      ]
     },
     "metadata": {},
     "output_type": "display_data"
    }
   ],
   "source": [
    "%%javascript\n",
    "IPython.OutputArea.auto_scroll_threshold = 9999;\n"
   ]
  },
  {
   "cell_type": "code",
   "execution_count": 2,
   "metadata": {},
   "outputs": [],
   "source": [
    "\n",
    "from util import load_datasets_unlabeled_test\n",
    "# Obtenemos los datos en arreglos\n",
    "train, dev, test = load_datasets_unlabeled_test()\n",
    "X_train, y_train = train\n",
    "X_dev, y_dev = dev"
   ]
  },
  {
   "cell_type": "code",
   "execution_count": null,
   "metadata": {},
   "outputs": [],
   "source": []
  },
  {
   "cell_type": "code",
   "execution_count": 3,
   "metadata": {},
   "outputs": [],
   "source": [
    "from sklearn.neighbors               import KNeighborsClassifier\n",
    "from sklearn.naive_bayes             import MultinomialNB\n",
    "from sklearn.naive_bayes             import GaussianNB\n",
    "from sklearn.naive_bayes             import BernoulliNB\n",
    "from sklearn.tree                    import DecisionTreeClassifier\n",
    "from sklearn.linear_model            import LogisticRegression\n",
    "from sklearn.linear_model            import LogisticRegressionCV\n",
    "from sklearn.linear_model            import SGDClassifier\n",
    "from sklearn.svm                     import LinearSVC\n",
    "from sklearn.svm                     import SVC\n",
    "from sklearn.svm                     import NuSVC\n",
    "from sklearn.ensemble                import RandomForestClassifier\n",
    "from sklearn.feature_extraction.text import CountVectorizer\n",
    "from sklearn.feature_extraction.text import TfidfVectorizer\n",
    "from sklearn.pipeline import Pipeline\n",
    "from nltk.corpus import stopwords\n",
    "\n",
    "\n",
    "from util import print_short_eval, print_eval\n",
    "from IPython.display import display, HTML\n",
    "from pandas import DataFrame"
   ]
  },
  {
   "cell_type": "code",
   "execution_count": null,
   "metadata": {},
   "outputs": [],
   "source": []
  },
  {
   "cell_type": "markdown",
   "metadata": {},
   "source": [
    "# Test options: "
   ]
  },
  {
   "cell_type": "code",
   "execution_count": 19,
   "metadata": {},
   "outputs": [
    {
     "name": "stdout",
     "output_type": "stream",
     "text": [
      "[0] <class 'sklearn.neighbors.classification.KNeighborsClassifier'> over <class 'sklearn.feature_extraction.text.CountVectorizer'>\n",
      "accuracy\t0.71\tmacro f1\t0.69\n",
      "accuracy\t0.51\tmacro f1\t0.41\n"
     ]
    },
    {
     "data": {
      "text/plain": [
       "'Eval:'"
      ]
     },
     "metadata": {},
     "output_type": "display_data"
    },
    {
     "data": {
      "text/plain": [
       "'* this movie is good: [1]; * this movie is bad: [0]'"
      ]
     },
     "metadata": {},
     "output_type": "display_data"
    },
    {
     "name": "stdout",
     "output_type": "stream",
     "text": [
      "[1] <class 'sklearn.naive_bayes.MultinomialNB'> over <class 'sklearn.feature_extraction.text.CountVectorizer'>\n",
      "accuracy\t0.82\tmacro f1\t0.82\n",
      "accuracy\t0.59\tmacro f1\t0.51\n"
     ]
    },
    {
     "data": {
      "text/plain": [
       "'Eval:'"
      ]
     },
     "metadata": {},
     "output_type": "display_data"
    },
    {
     "data": {
      "text/plain": [
       "'* this movie is good: [1]; * this movie is bad: [0]'"
      ]
     },
     "metadata": {},
     "output_type": "display_data"
    },
    {
     "name": "stdout",
     "output_type": "stream",
     "text": [
      "[2] <class 'sklearn.naive_bayes.MultinomialNB'> over <class 'sklearn.feature_extraction.text.CountVectorizer'>\n",
      "accuracy\t0.87\tmacro f1\t0.86\n",
      "accuracy\t0.61\tmacro f1\t0.54\n"
     ]
    },
    {
     "data": {
      "text/plain": [
       "'Eval:'"
      ]
     },
     "metadata": {},
     "output_type": "display_data"
    },
    {
     "data": {
      "text/plain": [
       "'* this movie is good: [1]; * this movie is bad: [0]'"
      ]
     },
     "metadata": {},
     "output_type": "display_data"
    },
    {
     "name": "stdout",
     "output_type": "stream",
     "text": [
      "[3] <class 'sklearn.naive_bayes.MultinomialNB'> over <class 'sklearn.feature_extraction.text.CountVectorizer'>\n",
      "accuracy\t0.99\tmacro f1\t0.99\n",
      "accuracy\t0.64\tmacro f1\t0.61\n"
     ]
    },
    {
     "data": {
      "text/plain": [
       "'Eval:'"
      ]
     },
     "metadata": {},
     "output_type": "display_data"
    },
    {
     "data": {
      "text/plain": [
       "'* this movie is good: [1]; * this movie is bad: [0]'"
      ]
     },
     "metadata": {},
     "output_type": "display_data"
    },
    {
     "name": "stdout",
     "output_type": "stream",
     "text": [
      "[4] <class 'sklearn.naive_bayes.BernoulliNB'> over <class 'sklearn.feature_extraction.text.CountVectorizer'>\n",
      "accuracy\t0.61\tmacro f1\t0.54\n",
      "accuracy\t0.52\tmacro f1\t0.39\n"
     ]
    },
    {
     "data": {
      "text/plain": [
       "'Eval:'"
      ]
     },
     "metadata": {},
     "output_type": "display_data"
    },
    {
     "data": {
      "text/plain": [
       "'* this movie is good: [1]; * this movie is bad: [1]'"
      ]
     },
     "metadata": {},
     "output_type": "display_data"
    },
    {
     "name": "stdout",
     "output_type": "stream",
     "text": [
      "[5] <class 'sklearn.tree.tree.DecisionTreeClassifier'> over <class 'sklearn.feature_extraction.text.CountVectorizer'>\n",
      "accuracy\t1.00\tmacro f1\t1.00\n",
      "accuracy\t0.69\tmacro f1\t0.69\n"
     ]
    },
    {
     "data": {
      "text/plain": [
       "'Eval:'"
      ]
     },
     "metadata": {},
     "output_type": "display_data"
    },
    {
     "data": {
      "text/plain": [
       "'* this movie is good: [1]; * this movie is bad: [1]'"
      ]
     },
     "metadata": {},
     "output_type": "display_data"
    },
    {
     "name": "stdout",
     "output_type": "stream",
     "text": [
      "[6] <class 'sklearn.linear_model.logistic.LogisticRegression'> over <class 'sklearn.feature_extraction.text.CountVectorizer'>\n",
      "accuracy\t1.00\tmacro f1\t1.00\n",
      "accuracy\t0.91\tmacro f1\t0.91\n"
     ]
    },
    {
     "data": {
      "text/plain": [
       "'Eval:'"
      ]
     },
     "metadata": {},
     "output_type": "display_data"
    },
    {
     "data": {
      "text/plain": [
       "'* this movie is good: [1]; * this movie is bad: [0]'"
      ]
     },
     "metadata": {},
     "output_type": "display_data"
    },
    {
     "name": "stdout",
     "output_type": "stream",
     "text": [
      "[7] <class 'sklearn.linear_model.logistic.LogisticRegressionCV'> over <class 'sklearn.feature_extraction.text.CountVectorizer'>\n",
      "accuracy\t1.00\tmacro f1\t1.00\n",
      "accuracy\t0.89\tmacro f1\t0.89\n"
     ]
    },
    {
     "data": {
      "text/plain": [
       "'Eval:'"
      ]
     },
     "metadata": {},
     "output_type": "display_data"
    },
    {
     "data": {
      "text/plain": [
       "'* this movie is good: [0]; * this movie is bad: [0]'"
      ]
     },
     "metadata": {},
     "output_type": "display_data"
    },
    {
     "name": "stdout",
     "output_type": "stream",
     "text": [
      "[8] <class 'sklearn.linear_model.stochastic_gradient.SGDClassifier'> over <class 'sklearn.feature_extraction.text.CountVectorizer'>\n",
      "accuracy\t1.00\tmacro f1\t1.00\n",
      "accuracy\t0.91\tmacro f1\t0.91\n"
     ]
    },
    {
     "data": {
      "text/plain": [
       "'Eval:'"
      ]
     },
     "metadata": {},
     "output_type": "display_data"
    },
    {
     "data": {
      "text/plain": [
       "'* this movie is good: [1]; * this movie is bad: [0]'"
      ]
     },
     "metadata": {},
     "output_type": "display_data"
    },
    {
     "name": "stdout",
     "output_type": "stream",
     "text": [
      "[9] <class 'sklearn.svm.classes.SVC'> over <class 'sklearn.feature_extraction.text.CountVectorizer'>\n"
     ]
    },
    {
     "name": "stderr",
     "output_type": "stream",
     "text": [
      "/home/emser/Apps/anaconda3/lib/python3.6/site-packages/sklearn/metrics/classification.py:1135: UndefinedMetricWarning: F-score is ill-defined and being set to 0.0 in labels with no predicted samples.\n",
      "  'precision', 'predicted', average, warn_for)\n"
     ]
    },
    {
     "name": "stdout",
     "output_type": "stream",
     "text": [
      "accuracy\t0.50\tmacro f1\t0.33\n",
      "accuracy\t0.50\tmacro f1\t0.33\n"
     ]
    },
    {
     "data": {
      "text/plain": [
       "'Eval:'"
      ]
     },
     "metadata": {},
     "output_type": "display_data"
    },
    {
     "data": {
      "text/plain": [
       "'* this movie is good: [1]; * this movie is bad: [1]'"
      ]
     },
     "metadata": {},
     "output_type": "display_data"
    },
    {
     "name": "stdout",
     "output_type": "stream",
     "text": [
      "[10] <class 'sklearn.svm.classes.LinearSVC'> over <class 'sklearn.feature_extraction.text.CountVectorizer'>\n",
      "accuracy\t1.00\tmacro f1\t1.00\n",
      "accuracy\t0.88\tmacro f1\t0.88\n"
     ]
    },
    {
     "data": {
      "text/plain": [
       "'Eval:'"
      ]
     },
     "metadata": {},
     "output_type": "display_data"
    },
    {
     "data": {
      "text/plain": [
       "'* this movie is good: [1]; * this movie is bad: [0]'"
      ]
     },
     "metadata": {},
     "output_type": "display_data"
    },
    {
     "name": "stdout",
     "output_type": "stream",
     "text": [
      "[11] <class 'sklearn.svm.classes.NuSVC'> over <class 'sklearn.feature_extraction.text.CountVectorizer'>\n",
      "accuracy\t0.99\tmacro f1\t0.99\n",
      "accuracy\t0.91\tmacro f1\t0.91\n"
     ]
    },
    {
     "data": {
      "text/plain": [
       "'Eval:'"
      ]
     },
     "metadata": {},
     "output_type": "display_data"
    },
    {
     "data": {
      "text/plain": [
       "'* this movie is good: [0]; * this movie is bad: [0]'"
      ]
     },
     "metadata": {},
     "output_type": "display_data"
    },
    {
     "name": "stdout",
     "output_type": "stream",
     "text": [
      "[12] <class 'sklearn.ensemble.forest.RandomForestClassifier'> over <class 'sklearn.feature_extraction.text.CountVectorizer'>\n",
      "accuracy\t0.99\tmacro f1\t0.99\n",
      "accuracy\t0.77\tmacro f1\t0.77\n"
     ]
    },
    {
     "data": {
      "text/plain": [
       "'Eval:'"
      ]
     },
     "metadata": {},
     "output_type": "display_data"
    },
    {
     "data": {
      "text/plain": [
       "'* this movie is good: [0]; * this movie is bad: [0]'"
      ]
     },
     "metadata": {},
     "output_type": "display_data"
    }
   ],
   "source": [
    "clfs = [\n",
    "    KNeighborsClassifier(),\n",
    "    MultinomialNB(),\n",
    "    MultinomialNB(alpha=0.5),\n",
    "    MultinomialNB(alpha=0.01),\n",
    "    BernoulliNB(),\n",
    "    DecisionTreeClassifier(random_state=0),\n",
    "    LogisticRegression(random_state=0),\n",
    "    LogisticRegressionCV(random_state=0),\n",
    "    SGDClassifier(random_state=0,max_iter=5, tol=None),\n",
    "    SVC(random_state=0, kernel='rbf'),\n",
    "    LinearSVC(random_state=0),\n",
    "    NuSVC(random_state=0),    \n",
    "    RandomForestClassifier(random_state=0),\n",
    "]\n",
    "\n",
    "#vects = [   \n",
    "#     CountVectorizer(binary=True),\n",
    "#     CountVectorizer(\n",
    "#             binary=True,\n",
    "#             min_df=1,\n",
    "#             max_df=0.90,\n",
    "#             ngram_range=(1, 5),\n",
    "#     ),\n",
    "#     CountVectorizer(\n",
    "#             stop_words='english',\n",
    "#             binary=True,\n",
    "#             min_df=1,\n",
    "#             max_df=0.90,\n",
    "#             ngram_range=(1, 5),\n",
    "#     ),    \n",
    "#    CountVectorizer(stop_words=stopwords.words(\"english\"), analyzer='word', ngram_range=(1, 2), max_df=1.0, min_df=1, max_features=None)\n",
    "#     TfidfVectorizer(ngram_range=(1, 3), max_features=2000, analyzer=u'word', sublinear_tf=True, use_idf = True, min_df=2, max_df=0.85, lowercase = True),\n",
    "#     TfidfVectorizer(ngram_range=(1, 4), max_features= 1000, analyzer=u'word', min_df=2, max_df=0.85, sublinear_tf=True, use_idf = True, lowercase = False),\n",
    "#]\n",
    "\n",
    "#vect = CountVectorizer(stop_words=stopwords.words(\"english\"), analyzer='word', ngram_range=(1, 2), max_df=1.0, min_df=1, max_features=None)\n",
    "#vect = TfidfVectorizer(max_df=0.5, stop_words='english', use_idf=True)\n",
    "\n",
    "# vect = TfidfVectorizer(\n",
    "#     analyzer='word',\n",
    "#     binary=True,\n",
    "#     lowercase = True,\n",
    "#     max_df = 0.7,\n",
    "#     min_df = 4,\n",
    "#     ngram_range = (1, 2),\n",
    "#     stop_words=stopwords.words('english'),\n",
    "#     strip_accents = None,\n",
    "#     tokenizer = ReviewTokenizer(punctuation=True)    \n",
    "# )\n",
    "\n",
    "\n",
    "vect = CountVectorizer(        \n",
    "        binary=True,\n",
    "        min_df=2,\n",
    "        max_df=0.90,\n",
    "        ngram_range=(1, 5))\n",
    "\n",
    "idc=0\n",
    "for clf in clfs:    \n",
    "    print( '[' +str(idc) + '] '+ str(clf.__class__) + ' over '+ str(vect.__class__) ) \n",
    "\n",
    "    pipeline = Pipeline([\n",
    "        ('vec', vect),\n",
    "        ('clf', clf),\n",
    "    ])\n",
    "    pipeline.fit(X_train, y_train)\n",
    "    print_short_eval(pipeline, X_train, y_train)\n",
    "    print_short_eval(pipeline, X_dev, y_dev)\n",
    "\n",
    "    display('Eval:')\n",
    "    display('* this movie is good: ' + str(pipeline.predict(['this movie is good'])) + '; * this movie is bad: ' + str(pipeline.predict(['this movie is bad']))) \n",
    "    \n",
    "    idc=idc+1\n",
    "    \n"
   ]
  },
  {
   "cell_type": "code",
   "execution_count": null,
   "metadata": {},
   "outputs": [],
   "source": []
  },
  {
   "cell_type": "code",
   "execution_count": 5,
   "metadata": {},
   "outputs": [
    {
     "data": {
      "text/plain": [
       "'Feature Names:'"
      ]
     },
     "metadata": {},
     "output_type": "display_data"
    },
    {
     "data": {
      "text/plain": [
       "'Count: 65165'"
      ]
     },
     "metadata": {},
     "output_type": "display_data"
    },
    {
     "data": {
      "text/plain": [
       "['00',\n",
       " '000',\n",
       " '000 times',\n",
       " '000 times it',\n",
       " '000 times it gets',\n",
       " '000 times it gets old',\n",
       " '04',\n",
       " '10',\n",
       " '10 000',\n",
       " '10 000 times',\n",
       " '10 000 times it',\n",
       " '10 000 times it gets',\n",
       " '10 days',\n",
       " '10 days you',\n",
       " '10 days you only',\n",
       " '10 days you only have',\n",
       " '10 minute',\n",
       " '10 minutes',\n",
       " '10 minutes can',\n",
       " '10 minutes can sum',\n",
       " '10 minutes can sum up',\n",
       " '10 years',\n",
       " '100',\n",
       " '100 agree',\n",
       " '100 agree with',\n",
       " '100 agree with the',\n",
       " '100 agree with the reviewer',\n",
       " '100 full',\n",
       " '100 full blooded',\n",
       " '100 full blooded romanian',\n",
       " '100 full blooded romanian prostitutes',\n",
       " '1000',\n",
       " '1080i',\n",
       " '1080p',\n",
       " '11',\n",
       " '112',\n",
       " '112 minutes',\n",
       " '112 minutes is',\n",
       " '112 minutes is long',\n",
       " '112 minutes is long time',\n",
       " '12',\n",
       " '12 year',\n",
       " '12 year old',\n",
       " '1200',\n",
       " '122',\n",
       " '122 minutes',\n",
       " '13',\n",
       " '13 it',\n",
       " '13 minute',\n",
       " '13 rating',\n",
       " '13 year',\n",
       " '13 year old',\n",
       " '14',\n",
       " '14 95',\n",
       " '143',\n",
       " '15',\n",
       " '15 minutes',\n",
       " '15 minutes of',\n",
       " '15 minutes of people',\n",
       " '15 minutes of people shooting',\n",
       " '15 years',\n",
       " '15 years ago',\n",
       " '15 years ago and',\n",
       " '154',\n",
       " '154 very',\n",
       " '154 very long',\n",
       " '154 very long minutes',\n",
       " '154 very long minutes he',\n",
       " '16',\n",
       " '16 years',\n",
       " '16x9',\n",
       " '16x9 format',\n",
       " '16x9 format anamorphic',\n",
       " '16x9 format anamorphic and',\n",
       " '16x9 format anamorphic and why',\n",
       " '16x9 hd',\n",
       " '16x9 hd format',\n",
       " '16x9 hd format or',\n",
       " '16x9 hd format or if',\n",
       " '16x9 tv',\n",
       " '16x9 tv and',\n",
       " '16x9 tv and this',\n",
       " '16x9 tv and this one',\n",
       " '16x9 widescreen',\n",
       " '16x9 widescreen plasma',\n",
       " '16x9 widescreen plasma lcd',\n",
       " '16x9 widescreen plasma lcd and',\n",
       " '16x9 widescreen very',\n",
       " '16x9 widescreen very poor',\n",
       " '16x9 widescreen very poor video',\n",
       " '17',\n",
       " '18',\n",
       " '18 years',\n",
       " '18th',\n",
       " '18th century',\n",
       " '18th century apparently',\n",
       " '18th century apparently before',\n",
       " '18th century apparently before the',\n",
       " '19',\n",
       " '1905']"
      ]
     },
     "metadata": {},
     "output_type": "display_data"
    }
   ],
   "source": [
    "display('Feature Names:')\n",
    "display('Count: ' + str(len(vect.get_feature_names())))\n",
    "display( vect.get_feature_names()[:100])"
   ]
  },
  {
   "cell_type": "markdown",
   "metadata": {},
   "source": [
    "Time Up! Sin tiempo para probar mas cosas. Nos quedamos con el mejor clasificador que encontramos hasta el momento:"
   ]
  },
  {
   "cell_type": "markdown",
   "metadata": {},
   "source": [
    "# Clasificador Seleccionado:"
   ]
  },
  {
   "cell_type": "code",
   "execution_count": 15,
   "metadata": {},
   "outputs": [
    {
     "name": "stdout",
     "output_type": "stream",
     "text": [
      "accuracy\t0.91\n",
      "\n",
      "             precision    recall  f1-score   support\n",
      "\n",
      "        neg       0.89      0.93      0.91        54\n",
      "        pos       0.92      0.89      0.90        53\n",
      "\n",
      "avg / total       0.91      0.91      0.91       107\n",
      "\n",
      "[[50  4]\n",
      " [ 6 47]]\n"
     ]
    }
   ],
   "source": [
    "pipeline = Pipeline([\n",
    "    ('vect', CountVectorizer(        \n",
    "        binary=True,\n",
    "        min_df=2,\n",
    "        max_df=0.90,\n",
    "        ngram_range=(1, 5),\n",
    "    )),\n",
    "    ('clf', LogisticRegression(random_state=0)),\n",
    "])\n",
    "pipeline.fit(X_train, y_train)\n",
    "print_eval(pipeline, X_dev, y_dev)"
   ]
  },
  {
   "cell_type": "code",
   "execution_count": null,
   "metadata": {},
   "outputs": [],
   "source": []
  },
  {
   "cell_type": "markdown",
   "metadata": {},
   "source": [
    "# Probando el clasificador:\n",
    "Probemos nuestro clasificador inicial"
   ]
  },
  {
   "cell_type": "code",
   "execution_count": 16,
   "metadata": {},
   "outputs": [
    {
     "data": {
      "text/plain": [
       "array([1])"
      ]
     },
     "execution_count": 16,
     "metadata": {},
     "output_type": "execute_result"
    }
   ],
   "source": [
    "pipeline.predict(['this movie is good'])"
   ]
  },
  {
   "cell_type": "code",
   "execution_count": 17,
   "metadata": {},
   "outputs": [
    {
     "data": {
      "text/plain": [
       "array([0])"
      ]
     },
     "execution_count": 17,
     "metadata": {},
     "output_type": "execute_result"
    }
   ],
   "source": [
    "pipeline.predict(['this movie is bad'])"
   ]
  },
  {
   "cell_type": "code",
   "execution_count": null,
   "metadata": {},
   "outputs": [],
   "source": []
  },
  {
   "cell_type": "code",
   "execution_count": null,
   "metadata": {},
   "outputs": [],
   "source": []
  },
  {
   "cell_type": "code",
   "execution_count": 18,
   "metadata": {},
   "outputs": [
    {
     "data": {
      "text/plain": [
       "array([0, 1, 0, 1, 1, 0, 0, 1, 0, 0, 0, 0, 0, 0, 1, 0, 0, 0, 0, 1, 1, 1, 0,\n",
       "       1, 0, 1, 1, 0, 0, 0, 1, 1, 0, 0, 0, 1, 1, 0, 0, 1, 1, 1, 1, 1, 0, 0,\n",
       "       1, 0, 0, 1, 0, 0, 0, 0, 1, 0, 1, 1, 1, 1, 0, 1, 0, 1, 0, 1, 1, 0, 0,\n",
       "       1, 0, 1, 0, 1, 0, 1, 1, 1, 0, 0, 0, 1, 1, 1, 0, 1, 1, 1, 0, 0, 0, 1,\n",
       "       0, 0, 0, 0, 0, 1, 1, 0, 1, 0, 0, 1, 0, 0, 0, 0, 0, 1, 0, 1, 0, 0, 1,\n",
       "       1, 1, 1, 0, 1, 1, 1, 0, 1, 0, 1, 0, 1, 1, 0, 1, 1, 0, 1, 0, 0, 0, 1,\n",
       "       1, 1, 1, 1, 1, 1, 0, 0, 0, 0, 1, 1, 0, 0, 1, 1, 1, 0, 1, 1, 1, 0, 1,\n",
       "       1, 0, 1, 0, 1, 0, 1, 0, 1, 1, 0, 0, 1, 1, 0, 0, 0, 0, 0, 1, 1, 0, 0,\n",
       "       0, 1, 0, 1, 1, 1, 0, 0, 1, 0, 0, 0, 1, 0, 0, 1, 0, 1, 1, 1, 1, 1, 0,\n",
       "       1, 1, 1, 0, 0, 0, 0, 1, 1, 0, 0, 1, 0, 1, 1, 0, 1, 1, 0, 1, 1, 1, 0,\n",
       "       1, 0, 1, 0, 1, 1, 0, 0, 0, 1, 1, 0, 0, 1, 1, 0, 1, 1, 1, 0, 0, 1, 0,\n",
       "       1, 1, 0, 1, 1, 1, 0, 0, 0, 0, 0, 1, 0, 1, 1, 1, 1, 0, 0, 0, 0, 1, 1,\n",
       "       1, 0, 1, 0, 1, 0, 0, 1, 0, 1, 0, 1, 1, 0, 0, 0, 1, 0, 0, 1, 1, 0, 0,\n",
       "       0, 1, 1, 0, 1, 1, 0, 1, 1, 1, 1, 1, 0, 0, 1, 0, 0, 0, 0, 0, 0, 1, 0,\n",
       "       1, 1, 0, 1, 1, 0, 1, 0, 1, 0, 1, 0, 1, 0, 0, 0, 0, 0, 0, 0, 1, 0, 1,\n",
       "       0, 1, 1, 0, 0, 0, 0, 0, 0, 0, 0, 1, 0, 1, 1, 0, 1, 1, 1, 0, 1, 0, 0,\n",
       "       0, 0, 1, 1, 1, 1, 0, 0, 0, 1, 1, 1, 0, 0, 0, 0, 0, 1, 0, 0, 0, 1, 0,\n",
       "       0, 0, 1, 1, 0, 0, 1, 1, 1, 0, 1, 0, 0, 1, 0, 0, 1, 1, 1, 1, 0, 0, 0,\n",
       "       0, 0, 1, 1, 0, 1, 1, 0, 0, 0, 1, 1, 1, 0, 0, 1, 0, 1, 1, 0, 0, 0, 0,\n",
       "       0, 1, 1, 0, 0, 1, 1, 0, 1, 1, 1, 0, 0, 1, 0, 0, 0, 0, 1, 0, 0, 1, 0,\n",
       "       1, 1, 0, 1, 1, 0, 1, 0, 0, 0, 0, 1, 1, 1, 0, 0, 1, 1, 1, 1, 1, 0, 0,\n",
       "       0, 1, 0, 0, 1, 0, 0, 1, 0, 0, 0, 1, 0, 0, 0, 1, 0])"
      ]
     },
     "execution_count": 18,
     "metadata": {},
     "output_type": "execute_result"
    }
   ],
   "source": [
    "from util import save_results\n",
    "\n",
    "predictions = pipeline.predict(test)\n",
    "save_results(\"2018-08-17-CountVectorizer-5-LogisticRegression\", predictions)\n",
    "predictions\n",
    "\n"
   ]
  },
  {
   "cell_type": "code",
   "execution_count": null,
   "metadata": {},
   "outputs": [],
   "source": []
  }
 ],
 "metadata": {
  "kernelspec": {
   "display_name": "Python 3",
   "language": "python",
   "name": "python3"
  },
  "language_info": {
   "codemirror_mode": {
    "name": "ipython",
    "version": 3
   },
   "file_extension": ".py",
   "mimetype": "text/x-python",
   "name": "python",
   "nbconvert_exporter": "python",
   "pygments_lexer": "ipython3",
   "version": "3.6.3"
  }
 },
 "nbformat": 4,
 "nbformat_minor": 2
}
