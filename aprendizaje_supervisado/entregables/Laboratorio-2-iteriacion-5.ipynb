{
 "cells": [
  {
   "cell_type": "markdown",
   "metadata": {},
   "source": [
    "<center>\n",
    "<h4>Diplomatura AACSyA 2018 - FaMAF - UNC</h4>\n",
    "<h3>Aprendizaje Supervisado</h3>\n",
    "<hr>\n",
    "<h4>Por David Gonzalez <leonardo.david.gonzalez@gmail.com> y Facundo Díaz Cobos <facundo.diaz.cobos@gmail.com></h4>\n",
    "</center>\n",
    "<br/>"
   ]
  },
  {
   "cell_type": "markdown",
   "metadata": {},
   "source": [
    "# Aprendizaje Supervisado: Laboratorio 2 - Iteracion 5\n"
   ]
  },
  {
   "cell_type": "markdown",
   "metadata": {},
   "source": [
    "Movies Reviews Sentiment Analysis\n",
    "\n",
    "    Trabajo final de laboratorio de la materia Aprendizaje Supervisado (Matías Marenchino, Franco M. Luque)\n",
    "    Diplomatura en Ciencias de Datos, Aprendizaje Automático y sus Aplicaciones http://diplodatos.famaf.unc.edu.ar/\n"
   ]
  },
  {
   "cell_type": "code",
   "execution_count": 1,
   "metadata": {},
   "outputs": [
    {
     "data": {
      "application/javascript": [
       "IPython.OutputArea.auto_scroll_threshold = 9999;"
      ],
      "text/plain": [
       "<IPython.core.display.Javascript object>"
      ]
     },
     "metadata": {},
     "output_type": "display_data"
    }
   ],
   "source": [
    "%%javascript\n",
    "IPython.OutputArea.auto_scroll_threshold = 9999;\n"
   ]
  },
  {
   "cell_type": "code",
   "execution_count": 2,
   "metadata": {},
   "outputs": [],
   "source": [
    "\n",
    "from util import load_datasets_unlabeled_test\n",
    "# Obtenemos los datos en arreglos\n",
    "train, dev, test = load_datasets_unlabeled_test()\n",
    "X_train, y_train = train\n",
    "X_dev, y_dev = dev"
   ]
  },
  {
   "cell_type": "code",
   "execution_count": null,
   "metadata": {},
   "outputs": [],
   "source": []
  },
  {
   "cell_type": "code",
   "execution_count": 3,
   "metadata": {},
   "outputs": [],
   "source": [
    "from sklearn.neighbors               import KNeighborsClassifier\n",
    "from sklearn.naive_bayes             import MultinomialNB\n",
    "from sklearn.naive_bayes             import GaussianNB\n",
    "from sklearn.naive_bayes             import BernoulliNB\n",
    "from sklearn.tree                    import DecisionTreeClassifier\n",
    "from sklearn.linear_model            import LogisticRegression\n",
    "from sklearn.linear_model            import LogisticRegressionCV\n",
    "from sklearn.linear_model            import SGDClassifier\n",
    "from sklearn.svm                     import LinearSVC\n",
    "from sklearn.svm                     import SVC\n",
    "from sklearn.svm                     import NuSVC\n",
    "from sklearn.ensemble                import RandomForestClassifier\n",
    "from sklearn.feature_extraction.text import CountVectorizer\n",
    "from sklearn.feature_extraction.text import TfidfVectorizer\n",
    "from sklearn.pipeline import Pipeline\n",
    "from nltk.corpus import stopwords\n",
    "from tokenizer import ReviewTokenizer\n",
    "\n",
    "from util import print_short_eval, print_eval\n",
    "from IPython.display import display, HTML\n",
    "from pandas import DataFrame"
   ]
  },
  {
   "cell_type": "markdown",
   "metadata": {},
   "source": [
    "# Previous Best:"
   ]
  },
  {
   "cell_type": "code",
   "execution_count": 4,
   "metadata": {},
   "outputs": [
    {
     "name": "stdout",
     "output_type": "stream",
     "text": [
      "accuracy\t0.89\n",
      "\n",
      "             precision    recall  f1-score   support\n",
      "\n",
      "        neg       0.85      0.94      0.89        54\n",
      "        pos       0.94      0.83      0.88        53\n",
      "\n",
      "avg / total       0.89      0.89      0.89       107\n",
      "\n",
      "[[51  3]\n",
      " [ 9 44]]\n"
     ]
    }
   ],
   "source": [
    "pipeline = Pipeline([\n",
    "    ('vect', CountVectorizer(        \n",
    "        binary=True,\n",
    "        min_df=2,\n",
    "        max_df=0.90,\n",
    "        ngram_range=(1, 5),\n",
    "    )),\n",
    "    ('clf', LogisticRegressionCV(random_state=0)),\n",
    "])\n",
    "pipeline.fit(X_train, y_train)\n",
    "print_eval(pipeline, X_dev, y_dev)"
   ]
  },
  {
   "cell_type": "markdown",
   "metadata": {},
   "source": [
    "# Test options: "
   ]
  },
  {
   "cell_type": "code",
   "execution_count": 5,
   "metadata": {},
   "outputs": [
    {
     "name": "stdout",
     "output_type": "stream",
     "text": [
      "[0] <class 'sklearn.neighbors.classification.KNeighborsClassifier'> over [0] <class 'sklearn.feature_extraction.text.TfidfVectorizer'>\n",
      "accuracy\t0.87\tmacro f1\t0.87\n",
      "accuracy\t0.74\tmacro f1\t0.74\n"
     ]
    },
    {
     "data": {
      "text/plain": [
       "'Eval:'"
      ]
     },
     "metadata": {},
     "output_type": "display_data"
    },
    {
     "data": {
      "text/plain": [
       "'* this movie is good: [0]'"
      ]
     },
     "metadata": {},
     "output_type": "display_data"
    },
    {
     "data": {
      "text/plain": [
       "'* this movie is bad: [0]'"
      ]
     },
     "metadata": {},
     "output_type": "display_data"
    },
    {
     "name": "stdout",
     "output_type": "stream",
     "text": [
      "[1] <class 'sklearn.naive_bayes.MultinomialNB'> over [0] <class 'sklearn.feature_extraction.text.TfidfVectorizer'>\n",
      "accuracy\t0.96\tmacro f1\t0.96\n",
      "accuracy\t0.82\tmacro f1\t0.82\n"
     ]
    },
    {
     "data": {
      "text/plain": [
       "'Eval:'"
      ]
     },
     "metadata": {},
     "output_type": "display_data"
    },
    {
     "data": {
      "text/plain": [
       "'* this movie is good: [0]'"
      ]
     },
     "metadata": {},
     "output_type": "display_data"
    },
    {
     "data": {
      "text/plain": [
       "'* this movie is bad: [0]'"
      ]
     },
     "metadata": {},
     "output_type": "display_data"
    },
    {
     "name": "stdout",
     "output_type": "stream",
     "text": [
      "[2] <class 'sklearn.naive_bayes.MultinomialNB'> over [0] <class 'sklearn.feature_extraction.text.TfidfVectorizer'>\n",
      "accuracy\t0.97\tmacro f1\t0.97\n",
      "accuracy\t0.82\tmacro f1\t0.82\n"
     ]
    },
    {
     "data": {
      "text/plain": [
       "'Eval:'"
      ]
     },
     "metadata": {},
     "output_type": "display_data"
    },
    {
     "data": {
      "text/plain": [
       "'* this movie is good: [0]'"
      ]
     },
     "metadata": {},
     "output_type": "display_data"
    },
    {
     "data": {
      "text/plain": [
       "'* this movie is bad: [0]'"
      ]
     },
     "metadata": {},
     "output_type": "display_data"
    },
    {
     "name": "stdout",
     "output_type": "stream",
     "text": [
      "[3] <class 'sklearn.naive_bayes.MultinomialNB'> over [0] <class 'sklearn.feature_extraction.text.TfidfVectorizer'>\n",
      "accuracy\t0.99\tmacro f1\t0.99\n",
      "accuracy\t0.84\tmacro f1\t0.84\n"
     ]
    },
    {
     "data": {
      "text/plain": [
       "'Eval:'"
      ]
     },
     "metadata": {},
     "output_type": "display_data"
    },
    {
     "data": {
      "text/plain": [
       "'* this movie is good: [0]'"
      ]
     },
     "metadata": {},
     "output_type": "display_data"
    },
    {
     "data": {
      "text/plain": [
       "'* this movie is bad: [0]'"
      ]
     },
     "metadata": {},
     "output_type": "display_data"
    },
    {
     "name": "stdout",
     "output_type": "stream",
     "text": [
      "[4] <class 'sklearn.naive_bayes.BernoulliNB'> over [0] <class 'sklearn.feature_extraction.text.TfidfVectorizer'>\n",
      "accuracy\t0.85\tmacro f1\t0.85\n",
      "accuracy\t0.80\tmacro f1\t0.80\n"
     ]
    },
    {
     "data": {
      "text/plain": [
       "'Eval:'"
      ]
     },
     "metadata": {},
     "output_type": "display_data"
    },
    {
     "data": {
      "text/plain": [
       "'* this movie is good: [0]'"
      ]
     },
     "metadata": {},
     "output_type": "display_data"
    },
    {
     "data": {
      "text/plain": [
       "'* this movie is bad: [0]'"
      ]
     },
     "metadata": {},
     "output_type": "display_data"
    },
    {
     "name": "stdout",
     "output_type": "stream",
     "text": [
      "[5] <class 'sklearn.tree.tree.DecisionTreeClassifier'> over [0] <class 'sklearn.feature_extraction.text.TfidfVectorizer'>\n",
      "accuracy\t1.00\tmacro f1\t1.00\n",
      "accuracy\t0.63\tmacro f1\t0.62\n"
     ]
    },
    {
     "data": {
      "text/plain": [
       "'Eval:'"
      ]
     },
     "metadata": {},
     "output_type": "display_data"
    },
    {
     "data": {
      "text/plain": [
       "'* this movie is good: [0]'"
      ]
     },
     "metadata": {},
     "output_type": "display_data"
    },
    {
     "data": {
      "text/plain": [
       "'* this movie is bad: [0]'"
      ]
     },
     "metadata": {},
     "output_type": "display_data"
    },
    {
     "name": "stdout",
     "output_type": "stream",
     "text": [
      "[6] <class 'sklearn.linear_model.logistic.LogisticRegression'> over [0] <class 'sklearn.feature_extraction.text.TfidfVectorizer'>\n",
      "accuracy\t0.98\tmacro f1\t0.98\n",
      "accuracy\t0.86\tmacro f1\t0.86\n"
     ]
    },
    {
     "data": {
      "text/plain": [
       "'Eval:'"
      ]
     },
     "metadata": {},
     "output_type": "display_data"
    },
    {
     "data": {
      "text/plain": [
       "'* this movie is good: [0]'"
      ]
     },
     "metadata": {},
     "output_type": "display_data"
    },
    {
     "data": {
      "text/plain": [
       "'* this movie is bad: [0]'"
      ]
     },
     "metadata": {},
     "output_type": "display_data"
    },
    {
     "name": "stdout",
     "output_type": "stream",
     "text": [
      "[7] <class 'sklearn.linear_model.logistic.LogisticRegressionCV'> over [0] <class 'sklearn.feature_extraction.text.TfidfVectorizer'>\n",
      "accuracy\t1.00\tmacro f1\t1.00\n",
      "accuracy\t0.83\tmacro f1\t0.83\n"
     ]
    },
    {
     "data": {
      "text/plain": [
       "'Eval:'"
      ]
     },
     "metadata": {},
     "output_type": "display_data"
    },
    {
     "data": {
      "text/plain": [
       "'* this movie is good: [0]'"
      ]
     },
     "metadata": {},
     "output_type": "display_data"
    },
    {
     "data": {
      "text/plain": [
       "'* this movie is bad: [0]'"
      ]
     },
     "metadata": {},
     "output_type": "display_data"
    },
    {
     "name": "stdout",
     "output_type": "stream",
     "text": [
      "[8] <class 'sklearn.linear_model.stochastic_gradient.SGDClassifier'> over [0] <class 'sklearn.feature_extraction.text.TfidfVectorizer'>\n",
      "accuracy\t1.00\tmacro f1\t1.00\n",
      "accuracy\t0.82\tmacro f1\t0.82\n"
     ]
    },
    {
     "data": {
      "text/plain": [
       "'Eval:'"
      ]
     },
     "metadata": {},
     "output_type": "display_data"
    },
    {
     "data": {
      "text/plain": [
       "'* this movie is good: [0]'"
      ]
     },
     "metadata": {},
     "output_type": "display_data"
    },
    {
     "data": {
      "text/plain": [
       "'* this movie is bad: [0]'"
      ]
     },
     "metadata": {},
     "output_type": "display_data"
    },
    {
     "name": "stdout",
     "output_type": "stream",
     "text": [
      "[9] <class 'sklearn.svm.classes.SVC'> over [0] <class 'sklearn.feature_extraction.text.TfidfVectorizer'>\n",
      "accuracy\t0.50\tmacro f1\t0.33\n",
      "accuracy\t0.50\tmacro f1\t0.33\n"
     ]
    },
    {
     "name": "stderr",
     "output_type": "stream",
     "text": [
      "/home/emser/Apps/anaconda3/lib/python3.6/site-packages/sklearn/metrics/classification.py:1135: UndefinedMetricWarning: F-score is ill-defined and being set to 0.0 in labels with no predicted samples.\n",
      "  'precision', 'predicted', average, warn_for)\n"
     ]
    },
    {
     "data": {
      "text/plain": [
       "'Eval:'"
      ]
     },
     "metadata": {},
     "output_type": "display_data"
    },
    {
     "data": {
      "text/plain": [
       "'* this movie is good: [1]'"
      ]
     },
     "metadata": {},
     "output_type": "display_data"
    },
    {
     "data": {
      "text/plain": [
       "'* this movie is bad: [1]'"
      ]
     },
     "metadata": {},
     "output_type": "display_data"
    },
    {
     "name": "stdout",
     "output_type": "stream",
     "text": [
      "[10] <class 'sklearn.svm.classes.LinearSVC'> over [0] <class 'sklearn.feature_extraction.text.TfidfVectorizer'>\n",
      "accuracy\t1.00\tmacro f1\t1.00\n",
      "accuracy\t0.83\tmacro f1\t0.83\n"
     ]
    },
    {
     "data": {
      "text/plain": [
       "'Eval:'"
      ]
     },
     "metadata": {},
     "output_type": "display_data"
    },
    {
     "data": {
      "text/plain": [
       "'* this movie is good: [0]'"
      ]
     },
     "metadata": {},
     "output_type": "display_data"
    },
    {
     "data": {
      "text/plain": [
       "'* this movie is bad: [0]'"
      ]
     },
     "metadata": {},
     "output_type": "display_data"
    },
    {
     "name": "stdout",
     "output_type": "stream",
     "text": [
      "[11] <class 'sklearn.svm.classes.NuSVC'> over [0] <class 'sklearn.feature_extraction.text.TfidfVectorizer'>\n",
      "accuracy\t0.99\tmacro f1\t0.99\n",
      "accuracy\t0.84\tmacro f1\t0.84\n"
     ]
    },
    {
     "data": {
      "text/plain": [
       "'Eval:'"
      ]
     },
     "metadata": {},
     "output_type": "display_data"
    },
    {
     "data": {
      "text/plain": [
       "'* this movie is good: [0]'"
      ]
     },
     "metadata": {},
     "output_type": "display_data"
    },
    {
     "data": {
      "text/plain": [
       "'* this movie is bad: [0]'"
      ]
     },
     "metadata": {},
     "output_type": "display_data"
    },
    {
     "name": "stdout",
     "output_type": "stream",
     "text": [
      "[12] <class 'sklearn.ensemble.forest.RandomForestClassifier'> over [0] <class 'sklearn.feature_extraction.text.TfidfVectorizer'>\n",
      "accuracy\t0.99\tmacro f1\t0.99\n",
      "accuracy\t0.82\tmacro f1\t0.82\n"
     ]
    },
    {
     "data": {
      "text/plain": [
       "'Eval:'"
      ]
     },
     "metadata": {},
     "output_type": "display_data"
    },
    {
     "data": {
      "text/plain": [
       "'* this movie is good: [0]'"
      ]
     },
     "metadata": {},
     "output_type": "display_data"
    },
    {
     "data": {
      "text/plain": [
       "'* this movie is bad: [0]'"
      ]
     },
     "metadata": {},
     "output_type": "display_data"
    }
   ],
   "source": [
    "clfs = [\n",
    "    KNeighborsClassifier(),\n",
    "    MultinomialNB(),\n",
    "    MultinomialNB(alpha=0.5),\n",
    "    MultinomialNB(alpha=0.01),\n",
    "    BernoulliNB(),\n",
    "    DecisionTreeClassifier(random_state=0),\n",
    "    LogisticRegression(random_state=0),\n",
    "    LogisticRegressionCV(random_state=0),\n",
    "    SGDClassifier(random_state=0,max_iter=5, tol=None),\n",
    "    SVC(random_state=0, kernel='rbf'),\n",
    "    LinearSVC(random_state=0),\n",
    "    NuSVC(random_state=0),    \n",
    "    RandomForestClassifier(random_state=0),\n",
    "]\n",
    "\n",
    "#vects = [   \n",
    "#     CountVectorizer(binary=True),\n",
    "#     CountVectorizer(\n",
    "#             binary=True,\n",
    "#             min_df=1,\n",
    "#             max_df=0.90,\n",
    "#             ngram_range=(1, 5),\n",
    "#     ),\n",
    "#     CountVectorizer(\n",
    "#             stop_words='english',\n",
    "#             binary=True,\n",
    "#             min_df=1,\n",
    "#             max_df=0.90,\n",
    "#             ngram_range=(1, 5),\n",
    "#     ),    \n",
    "#    CountVectorizer(stop_words=stopwords.words(\"english\"), analyzer='word', ngram_range=(1, 2), max_df=1.0, min_df=1, max_features=None)\n",
    "#     TfidfVectorizer(ngram_range=(1, 3), max_features=2000, analyzer=u'word', sublinear_tf=True, use_idf = True, min_df=2, max_df=0.85, lowercase = True),\n",
    "#     TfidfVectorizer(ngram_range=(1, 4), max_features= 1000, analyzer=u'word', min_df=2, max_df=0.85, sublinear_tf=True, use_idf = True, lowercase = False),\n",
    "#]\n",
    "\n",
    "#vect = CountVectorizer(stop_words=stopwords.words(\"english\"), analyzer='word', ngram_range=(1, 2), max_df=1.0, min_df=1, max_features=None)\n",
    "#vect = TfidfVectorizer(max_df=0.5, stop_words='english', use_idf=True)\n",
    "\n",
    "vect = TfidfVectorizer(\n",
    "    analyzer='word',\n",
    "    binary=True,\n",
    "    lowercase = True,\n",
    "    max_df = 0.7,\n",
    "    min_df = 4,\n",
    "    ngram_range = (1, 2),\n",
    "    stop_words='english',\n",
    "    strip_accents = None,\n",
    "#    tokenizer = ReviewTokenizer(punctuation=True)    \n",
    ")\n",
    "\n",
    "\n",
    "# vect = CountVectorizer(        \n",
    "#         binary=True,\n",
    "#         min_df=2,\n",
    "#         max_df=0.90,\n",
    "#         ngram_range=(1, 5))\n",
    "\n",
    "idc=0\n",
    "for clf in clfs:    \n",
    "    idx=0    \n",
    "    print( '[' +str(idc) + '] '+ str(clf.__class__) + ' over [' +str(idx) + '] '+ str(vect.__class__) ) \n",
    "    idx=idx+1\n",
    "    pipeline = Pipeline([\n",
    "        ('vec', vect),\n",
    "        ('clf', clf),\n",
    "    ])\n",
    "    pipeline.fit(X_train, y_train)\n",
    "    print_short_eval(pipeline, X_train, y_train)\n",
    "    print_short_eval(pipeline, X_dev, y_dev)\n",
    "\n",
    "    display('Eval:')\n",
    "    display('* this movie is good: ' + str(pipeline.predict(['this movie is good'])))\n",
    "    display('* this movie is bad: ' + str(pipeline.predict(['this movie is bad'])))      \n",
    "    \n",
    "    idc=idc+1\n",
    "    \n"
   ]
  },
  {
   "cell_type": "code",
   "execution_count": null,
   "metadata": {},
   "outputs": [],
   "source": []
  },
  {
   "cell_type": "code",
   "execution_count": 6,
   "metadata": {},
   "outputs": [
    {
     "data": {
      "text/plain": [
       "'Feature Names:'"
      ]
     },
     "metadata": {},
     "output_type": "display_data"
    },
    {
     "data": {
      "text/plain": [
       "'Count: 4649'"
      ]
     },
     "metadata": {},
     "output_type": "display_data"
    },
    {
     "data": {
      "text/plain": [
       "['000',\n",
       " '10',\n",
       " '10 minutes',\n",
       " '10 years',\n",
       " '100',\n",
       " '11',\n",
       " '12',\n",
       " '13',\n",
       " '14',\n",
       " '15',\n",
       " '15 minutes',\n",
       " '15 years',\n",
       " '16',\n",
       " '16x9',\n",
       " '17',\n",
       " '18',\n",
       " '18 years',\n",
       " '1930',\n",
       " '1949',\n",
       " '1950',\n",
       " '1960',\n",
       " '1960s',\n",
       " '1968',\n",
       " '1980',\n",
       " '1999',\n",
       " '1st',\n",
       " '20',\n",
       " '20 minutes',\n",
       " '200',\n",
       " '2000',\n",
       " '2001',\n",
       " '2002',\n",
       " '2004',\n",
       " '2005',\n",
       " '2006',\n",
       " '2007',\n",
       " '2008',\n",
       " '24',\n",
       " '25',\n",
       " '28',\n",
       " '28 days',\n",
       " '28 weeks',\n",
       " '2nd',\n",
       " '30',\n",
       " '30 day',\n",
       " '30 years',\n",
       " '30th',\n",
       " '30th anniversary',\n",
       " '33',\n",
       " '34',\n",
       " '35',\n",
       " '35 aspect',\n",
       " '3d',\n",
       " '3rd',\n",
       " '40',\n",
       " '40 years',\n",
       " '45',\n",
       " '50',\n",
       " '50 years',\n",
       " '60',\n",
       " '70',\n",
       " '70s',\n",
       " '74',\n",
       " '80',\n",
       " '80s',\n",
       " '85',\n",
       " '90',\n",
       " '90 minutes',\n",
       " '95',\n",
       " '99',\n",
       " 'abandoned',\n",
       " 'ability',\n",
       " 'able',\n",
       " 'abs',\n",
       " 'absence',\n",
       " 'absent',\n",
       " 'absolute',\n",
       " 'absolutely',\n",
       " 'absolutely love',\n",
       " 'absorbed',\n",
       " 'absurd',\n",
       " 'abuse',\n",
       " 'abysmal',\n",
       " 'abyss',\n",
       " 'academy',\n",
       " 'accent',\n",
       " 'accents',\n",
       " 'accept',\n",
       " 'acceptable',\n",
       " 'acceptance',\n",
       " 'access',\n",
       " 'accident',\n",
       " 'accidentally',\n",
       " 'acclaimed',\n",
       " 'accompanies',\n",
       " 'accomplished',\n",
       " 'according',\n",
       " 'account',\n",
       " 'accuracy',\n",
       " 'accurate']"
      ]
     },
     "metadata": {},
     "output_type": "display_data"
    }
   ],
   "source": [
    "display('Feature Names:')\n",
    "display('Count: ' + str(len(vect.get_feature_names())))\n",
    "display( vect.get_feature_names()[:100])"
   ]
  },
  {
   "cell_type": "markdown",
   "metadata": {},
   "source": [
    "# Clasificador Seleccionado:"
   ]
  },
  {
   "cell_type": "code",
   "execution_count": 7,
   "metadata": {},
   "outputs": [
    {
     "name": "stdout",
     "output_type": "stream",
     "text": [
      "accuracy\t0.90\n",
      "\n",
      "             precision    recall  f1-score   support\n",
      "\n",
      "        neg       0.91      0.89      0.90        54\n",
      "        pos       0.89      0.91      0.90        53\n",
      "\n",
      "avg / total       0.90      0.90      0.90       107\n",
      "\n",
      "[[48  6]\n",
      " [ 5 48]]\n"
     ]
    }
   ],
   "source": [
    "vect = TfidfVectorizer(\n",
    "    analyzer='word',\n",
    "    binary=True,\n",
    "    lowercase = True,\n",
    "    max_df = 0.7,\n",
    "    min_df = 4,\n",
    "    ngram_range = (1, 2),\n",
    "#    tokenizer = ReviewTokenizer(punctuation=True)    \n",
    ")\n",
    "\n",
    "clf = LogisticRegressionCV(random_state=0)\n",
    "\n",
    "pipeline = Pipeline([\n",
    "    ('vect', vect ),\n",
    "    ('clf', clf),\n",
    "])\n",
    "pipeline.fit(X_train, y_train)\n",
    "print_eval(pipeline, X_dev, y_dev)"
   ]
  },
  {
   "cell_type": "code",
   "execution_count": null,
   "metadata": {},
   "outputs": [],
   "source": []
  },
  {
   "cell_type": "markdown",
   "metadata": {},
   "source": [
    "# Probando el clasificador:\n",
    "Probemos nuestro clasificador inicial"
   ]
  },
  {
   "cell_type": "code",
   "execution_count": 8,
   "metadata": {},
   "outputs": [
    {
     "data": {
      "text/plain": [
       "array([1])"
      ]
     },
     "execution_count": 8,
     "metadata": {},
     "output_type": "execute_result"
    }
   ],
   "source": [
    "pipeline.predict(['this movie is great'])"
   ]
  },
  {
   "cell_type": "code",
   "execution_count": 9,
   "metadata": {},
   "outputs": [
    {
     "data": {
      "text/plain": [
       "array([0])"
      ]
     },
     "execution_count": 9,
     "metadata": {},
     "output_type": "execute_result"
    }
   ],
   "source": [
    "pipeline.predict(['this movie is bad'])"
   ]
  },
  {
   "cell_type": "code",
   "execution_count": null,
   "metadata": {},
   "outputs": [],
   "source": []
  },
  {
   "cell_type": "code",
   "execution_count": null,
   "metadata": {},
   "outputs": [],
   "source": []
  },
  {
   "cell_type": "code",
   "execution_count": 10,
   "metadata": {},
   "outputs": [
    {
     "data": {
      "text/plain": [
       "array([0, 1, 0, 1, 1, 0, 1, 1, 0, 0, 0, 1, 0, 0, 1, 0, 0, 0, 0, 1, 1, 1, 0,\n",
       "       1, 0, 1, 1, 0, 0, 0, 1, 1, 0, 0, 0, 1, 1, 0, 0, 1, 1, 0, 1, 1, 0, 0,\n",
       "       1, 0, 1, 1, 0, 0, 0, 0, 1, 0, 1, 1, 1, 1, 0, 0, 0, 1, 0, 1, 1, 0, 1,\n",
       "       1, 0, 1, 0, 1, 0, 1, 0, 1, 0, 0, 0, 1, 1, 1, 0, 1, 1, 1, 0, 0, 0, 1,\n",
       "       0, 0, 1, 0, 0, 1, 1, 0, 1, 0, 0, 1, 0, 0, 0, 0, 0, 1, 0, 1, 0, 0, 1,\n",
       "       1, 1, 1, 0, 1, 1, 1, 0, 1, 0, 1, 1, 1, 1, 0, 1, 1, 0, 1, 0, 0, 1, 1,\n",
       "       0, 1, 1, 1, 1, 1, 0, 0, 1, 0, 0, 1, 0, 0, 1, 1, 1, 0, 1, 1, 1, 0, 1,\n",
       "       1, 0, 1, 0, 1, 0, 1, 0, 1, 1, 0, 0, 1, 1, 1, 0, 0, 0, 1, 1, 1, 0, 0,\n",
       "       0, 1, 0, 1, 1, 1, 0, 1, 1, 0, 0, 0, 1, 0, 0, 1, 0, 1, 1, 1, 1, 1, 0,\n",
       "       1, 1, 1, 0, 0, 0, 1, 1, 1, 0, 0, 1, 0, 1, 1, 0, 1, 1, 0, 1, 1, 1, 0,\n",
       "       1, 0, 1, 0, 1, 1, 0, 0, 0, 1, 1, 0, 1, 1, 1, 0, 1, 1, 1, 0, 0, 1, 0,\n",
       "       1, 1, 0, 1, 0, 1, 0, 0, 0, 0, 0, 1, 0, 1, 1, 1, 1, 0, 0, 0, 0, 1, 1,\n",
       "       1, 0, 1, 0, 1, 0, 0, 1, 0, 1, 0, 1, 1, 0, 0, 0, 1, 0, 0, 1, 1, 0, 0,\n",
       "       0, 1, 1, 0, 1, 1, 0, 1, 1, 1, 1, 1, 0, 0, 1, 0, 0, 0, 0, 0, 0, 1, 0,\n",
       "       1, 1, 0, 0, 1, 0, 1, 0, 1, 0, 1, 0, 1, 0, 0, 0, 0, 0, 0, 0, 1, 0, 1,\n",
       "       1, 1, 0, 0, 0, 0, 0, 0, 1, 0, 0, 1, 1, 1, 1, 0, 0, 1, 1, 0, 1, 0, 0,\n",
       "       0, 0, 1, 1, 1, 1, 0, 0, 0, 1, 1, 1, 0, 1, 0, 0, 0, 1, 0, 0, 0, 1, 0,\n",
       "       0, 0, 1, 1, 0, 0, 1, 1, 1, 0, 1, 0, 0, 1, 0, 0, 1, 1, 0, 1, 0, 0, 0,\n",
       "       0, 0, 1, 1, 0, 1, 1, 1, 0, 0, 1, 1, 1, 0, 0, 1, 0, 1, 1, 0, 0, 0, 0,\n",
       "       0, 1, 1, 0, 0, 1, 1, 1, 1, 1, 1, 0, 0, 1, 0, 0, 0, 0, 1, 0, 0, 0, 0,\n",
       "       1, 1, 0, 1, 1, 1, 0, 0, 0, 1, 0, 1, 1, 1, 0, 0, 1, 1, 1, 1, 1, 0, 0,\n",
       "       0, 1, 0, 0, 1, 0, 0, 1, 0, 0, 0, 1, 0, 0, 0, 1, 0])"
      ]
     },
     "execution_count": 10,
     "metadata": {},
     "output_type": "execute_result"
    }
   ],
   "source": [
    "from util import save_results\n",
    "\n",
    "predictions = pipeline.predict(test)\n",
    "#save_results(\"2018-08-17-TfidfVectorizer-4-LogisticRegressionCV\", predictions)\n",
    "predictions\n",
    "\n"
   ]
  },
  {
   "cell_type": "code",
   "execution_count": null,
   "metadata": {},
   "outputs": [],
   "source": []
  }
 ],
 "metadata": {
  "kernelspec": {
   "display_name": "Python 3",
   "language": "python",
   "name": "python3"
  },
  "language_info": {
   "codemirror_mode": {
    "name": "ipython",
    "version": 3
   },
   "file_extension": ".py",
   "mimetype": "text/x-python",
   "name": "python",
   "nbconvert_exporter": "python",
   "pygments_lexer": "ipython3",
   "version": "3.6.3"
  }
 },
 "nbformat": 4,
 "nbformat_minor": 2
}
