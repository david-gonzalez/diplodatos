{
 "cells": [
  {
   "cell_type": "markdown",
   "metadata": {},
   "source": [
    "<center>\n",
    "<h4>Diplomatura AACSyA 2018 - FaMAF - UNC</h4>\n",
    "<h3>Aprendizaje Supervisado</h3>\n",
    "<hr>\n",
    "<h4>Por David Gonzalez <leonardo.david.gonzalez@gmail.com> y Facundo Díaz Cobos <facundo.diaz.cobos@gmail.com></h4>\n",
    "</center>\n",
    "<br/>"
   ]
  },
  {
   "cell_type": "markdown",
   "metadata": {},
   "source": [
    "# Aprendizaje Supervisado: Laboratorio 2"
   ]
  },
  {
   "cell_type": "markdown",
   "metadata": {},
   "source": [
    "Movies Reviews Sentiment Analysis\n",
    "\n",
    "    Trabajo final de laboratorio de la materia Aprendizaje Supervisado (Matías Marenchino, Franco M. Luque)\n",
    "    Diplomatura en Ciencias de Datos, Aprendizaje Automático y sus Aplicaciones http://diplodatos.famaf.unc.edu.ar/\n"
   ]
  },
  {
   "cell_type": "code",
   "execution_count": 2,
   "metadata": {},
   "outputs": [],
   "source": [
    "import os\n",
    "from sklearn.datasets import load_files\n",
    "from sklearn.model_selection import train_test_split\n",
    "\n",
    "def load_datasets_unlabeled_test():\n",
    "    dataset = load_files('review_polarity_competition/reviews_sentoken', shuffle=False)\n",
    "    docs_train, docs_dev, y_train, y_dev = train_test_split(\n",
    "        dataset.data, dataset.target, test_size=0.10, random_state=42)\n",
    "    dirname = \"review_polarity_competition/test_reviews_sentoken\"\n",
    "    test = []\n",
    "    # I do this to keep the files in numeric order\n",
    "    for fname in range(len(os.listdir(dirname))):\n",
    "        fname = str(fname) + \".txt\"\n",
    "        with open(os.path.join(dirname, fname)) as fd:\n",
    "            test.append(fd.read())\n",
    "    train = docs_train, y_train\n",
    "    dev = docs_dev, y_dev\n",
    "    return train, dev, test\n",
    "\n",
    "def save_results(fname, labels):\n",
    "    with open(fname, 'w') as f:\n",
    "        f.write(\"Id,Category\\n\")\n",
    "        for i,l in enumerate(labels):\n",
    "            f.write(str(i) + \".txt,\" + str(l) + \"\\n\")"
   ]
  },
  {
   "cell_type": "code",
   "execution_count": null,
   "metadata": {},
   "outputs": [],
   "source": []
  }
 ],
 "metadata": {
  "kernelspec": {
   "display_name": "Python 3",
   "language": "python",
   "name": "python3"
  },
  "language_info": {
   "codemirror_mode": {
    "name": "ipython",
    "version": 3
   },
   "file_extension": ".py",
   "mimetype": "text/x-python",
   "name": "python",
   "nbconvert_exporter": "python",
   "pygments_lexer": "ipython3",
   "version": "3.6.5"
  }
 },
 "nbformat": 4,
 "nbformat_minor": 2
}
