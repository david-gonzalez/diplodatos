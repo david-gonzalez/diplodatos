{
 "cells": [
  {
   "cell_type": "markdown",
   "metadata": {},
   "source": [
    "<center>\n",
    "<h4>Diplomatura AACSyA 2018 - FaMAF - UNC</h4>\n",
    "<h1>Aprendizaje No Supervisado</h1>\n",
    "<h2>Práctico 1 - Clustering</h2>\n",
    "<hr>\n",
    "Por David Gonzalez <leonardo.david.gonzalez@gmail.com> y Facundo Díaz Cobos <facundo.diaz.cobos@gmail.com>\n",
    "</center>\n",
    "<br/>"
   ]
  },
  {
   "cell_type": "markdown",
   "metadata": {},
   "source": [
    "## Objetivos\n",
    "En este práctico se explorarán diferentes soluciones de clustering, para desarrollar las capacidades de análisis de\n",
    "soluciones de clustering. Es preferible que los conjuntos de datos con los que trabajar sean propios, ya que de esta\n",
    "forma podrán aplicar su conocimiento del dominio en la interpretación de las diferentes soluciones. Alternativa-\n",
    "mente, pueden usar conjuntos de datos de los ejemplos de la materia.\n",
    "En los mismos, hacer una breve discusión del problema y explicar cómo puede ser útil usar técnicas de clustering."
   ]
  },
  {
   "cell_type": "markdown",
   "metadata": {},
   "source": [
    "# Consignas\n",
    "Para cumplir los objetivos, realizar las siguientes actividades:\n",
    "\n",
    "1 - Explorar soluciones con diferentes parámetros y compararlas. Por ejemplo, variar el número de clusters, las\n",
    "métricas de distancia, el número de iteraciones o el número de veces que se inicializan las semillas. Describir\n",
    "brevemente: número de clusters, población de cada cluster, algunas caracterı́sticas distintivas de cada cluster,\n",
    "algunos elementos que se puedan encontrar en cada cluster.\n",
    "\n",
    "2 - Incorporar un embedding como preproceso a los datos, aplicar los algoritmos de clustering después de ese\n",
    "preproceso y describir la solución o soluciones resultantes, discutiendo las ventajas que resultan. Se pueden\n",
    "usar:\n",
    "\n",
    "◦ Principal\n",
    "Component Analysis http://scikit-learn.org/stable/modules/generated/sklearn.\n",
    "decomposition.PCA.html\n",
    "\n",
    "◦ para texto, embeddings neuronales Gensim https://pypi.org/project/gensim/\n",
    "\n",
    "◦ para texto, embeddings neuronales Fastext https://pypi.org/project/fasttext/\n",
    "\n",
    "3 - Proponer (y en lo posible, implementar) métricas de evaluación de soluciones de clustering basadas en testigos.\n",
    "Los testigos son pares de objetos que un experto de dominio etiqueta como “deberı́an estar en el mismo cluster”\n",
    "o “deberı́an estar en distintos clusters”.\n",
    "\n",
    "4 - El método k-means de scikit-learn no provee una forma sencilla de obtneer los objetos más cercanos al centroide\n",
    "de un cluster. Proponga alguna forma de obtener una muestra de los elementos de un cluster que sean cercanos\n",
    "al centroide, por ejemplo, usando clasificadores, usando distancia coseno, etc. En lo posible, implementarlos y\n",
    "mostrar esos elementos, discutir la representatividad de los elementos encontrados."
   ]
  },
  {
   "cell_type": "markdown",
   "metadata": {},
   "source": [
    "# <u>RESOLUCIÓN</u>"
   ]
  },
  {
   "cell_type": "markdown",
   "metadata": {},
   "source": [
    "# Importando los datos:\n",
    "Vamos a trabajar un set de datos correspondiente a compras reales de clientes realizadas en un año. Los clientes fueron anonimizados previamente para poder ser utilizados en el ejercicio."
   ]
  },
  {
   "cell_type": "code",
   "execution_count": 10,
   "metadata": {},
   "outputs": [
    {
     "name": "stdout",
     "output_type": "stream",
     "text": [
      "* Chequeando dataset de trabajo...\n",
      "- Dataset OK.\n"
     ]
    }
   ],
   "source": [
    "from util import check_dataset\n",
    "check_dataset()"
   ]
  },
  {
   "cell_type": "code",
   "execution_count": null,
   "metadata": {},
   "outputs": [],
   "source": [
    "from util import load_dataset\n",
    "ventas_df = load_dataset()"
   ]
  },
  {
   "cell_type": "markdown",
   "metadata": {},
   "source": [
    "# 1 - Explorar soluciones con diferentes parámetros y compararlas:"
   ]
  },
  {
   "cell_type": "code",
   "execution_count": null,
   "metadata": {},
   "outputs": [],
   "source": [
    "# Esto lo veo yo."
   ]
  },
  {
   "cell_type": "code",
   "execution_count": null,
   "metadata": {},
   "outputs": [],
   "source": []
  },
  {
   "cell_type": "code",
   "execution_count": null,
   "metadata": {},
   "outputs": [],
   "source": []
  },
  {
   "cell_type": "markdown",
   "metadata": {},
   "source": [
    "# 2 - Incorporar un embedding como preproceso a los datos:"
   ]
  },
  {
   "cell_type": "code",
   "execution_count": null,
   "metadata": {},
   "outputs": [],
   "source": [
    "# Esto si podes fijate vos."
   ]
  },
  {
   "cell_type": "code",
   "execution_count": null,
   "metadata": {},
   "outputs": [],
   "source": []
  },
  {
   "cell_type": "code",
   "execution_count": null,
   "metadata": {},
   "outputs": [],
   "source": []
  },
  {
   "cell_type": "markdown",
   "metadata": {},
   "source": [
    "# 3 - Proponer métricas de evaluación de soluciones de clustering basadas en testigos:"
   ]
  },
  {
   "cell_type": "code",
   "execution_count": null,
   "metadata": {},
   "outputs": [],
   "source": [
    "# Esto si podes fijate vos."
   ]
  },
  {
   "cell_type": "code",
   "execution_count": null,
   "metadata": {},
   "outputs": [],
   "source": []
  },
  {
   "cell_type": "code",
   "execution_count": null,
   "metadata": {},
   "outputs": [],
   "source": []
  },
  {
   "cell_type": "markdown",
   "metadata": {},
   "source": [
    "# 4 - Proponga alguna forma de obtener una muestra de los elementos de un cluster que sean cercanos al centroide:"
   ]
  },
  {
   "cell_type": "code",
   "execution_count": null,
   "metadata": {},
   "outputs": [],
   "source": [
    "# Esto lo veo yo."
   ]
  },
  {
   "cell_type": "code",
   "execution_count": null,
   "metadata": {},
   "outputs": [],
   "source": []
  },
  {
   "cell_type": "code",
   "execution_count": null,
   "metadata": {},
   "outputs": [],
   "source": []
  },
  {
   "cell_type": "code",
   "execution_count": null,
   "metadata": {},
   "outputs": [],
   "source": []
  }
 ],
 "metadata": {
  "kernelspec": {
   "display_name": "Python 3",
   "language": "python",
   "name": "python3"
  },
  "language_info": {
   "codemirror_mode": {
    "name": "ipython",
    "version": 3
   },
   "file_extension": ".py",
   "mimetype": "text/x-python",
   "name": "python",
   "nbconvert_exporter": "python",
   "pygments_lexer": "ipython3",
   "version": "3.6.3"
  }
 },
 "nbformat": 4,
 "nbformat_minor": 2
}
